{
 "cells": [
  {
   "cell_type": "code",
   "execution_count": null,
   "metadata": {
    "id": "LAId5BuGxMX4"
   },
   "outputs": [],
   "source": [
    "# Ref Big Dataset: https://www.kaggle.com/moltean/fruits"
   ]
  },
  {
   "cell_type": "code",
   "execution_count": null,
   "metadata": {
    "id": "3UdLslsL1WeC"
   },
   "outputs": [],
   "source": [
    "import tensorflow as tf"
   ]
  },
  {
   "cell_type": "code",
   "execution_count": null,
   "metadata": {
    "id": "fUsI42eF1a6r"
   },
   "outputs": [],
   "source": [
    "from glob import glob"
   ]
  },
  {
   "cell_type": "code",
   "execution_count": null,
   "metadata": {
    "id": "MTmQ3Uvc1qvp"
   },
   "outputs": [],
   "source": [
    "# Set the training path and validation path\n",
    "\n",
    "train_path = 'fruits-small/fruits-small/data/Training/'\n",
    "validation_path = 'fruits-small/fruits-small/data/Validation/'"
   ]
  },
  {
   "cell_type": "code",
   "execution_count": null,
   "metadata": {
    "id": "mRNirWe310Gh"
   },
   "outputs": [],
   "source": [
    "#Initialize Glob to interact with storage\n",
    "\n",
    "image_files = glob(train_path +'/*/*.jp*g')\n",
    "valid_image_files = glob(validation_path +'/*/*.jp*g')"
   ]
  },
  {
   "cell_type": "code",
   "execution_count": null,
   "metadata": {
    "id": "cN0mekRh2PQ-"
   },
   "outputs": [],
   "source": [
    "#Vgg16\n",
    "\n",
    "#Step1: Create ImageGenerator object (Use Algo's preprocessing function)\n",
    "\n",
    "gen = tf.keras.preprocessing.image.ImageDataGenerator(preprocessing_function=tf.keras.applications.vgg16.preprocess_input,\n",
    "                                                      rotation_range=20,\n",
    "                                                      shear_range=0.1,\n",
    "                                                      zoom_range=0.2,\n",
    "                                                      horizontal_flip=True,\n",
    "                                                      vertical_flip=True)"
   ]
  },
  {
   "cell_type": "code",
   "execution_count": null,
   "metadata": {
    "colab": {
     "base_uri": "https://localhost:8080/"
    },
    "id": "1x2rOXlg2QL0",
    "outputId": "5668fb3f-60e3-4509-82ca-74e4c6662b9b"
   },
   "outputs": [
    {
     "name": "stdout",
     "output_type": "stream",
     "text": [
      "Found 3425 images belonging to 7 classes.\n",
      "Found 1150 images belonging to 7 classes.\n"
     ]
    }
   ],
   "source": [
    "#Step2: Create Train and Valid Obj\n",
    "\n",
    "train_generator = gen.flow_from_directory(train_path,\n",
    "                                          target_size=[224,224],\n",
    "                                          class_mode='categorical',\n",
    "                                          batch_size=32)\n",
    "\n",
    "valid_generator = gen.flow_from_directory(validation_path,\n",
    "                                          target_size=[224,224],\n",
    "                                          class_mode='categorical',\n",
    "                                          batch_size=32)"
   ]
  },
  {
   "cell_type": "code",
   "execution_count": null,
   "metadata": {
    "id": "tCyQFoVX36k3"
   },
   "outputs": [],
   "source": [
    "#Step3: Load the model with Training Enabled ! ---> \n",
    "#\n",
    "# include_top=True -----> You will be using the pretrained model with Output FC Layer as 1000 classes (Training Disabled)\n",
    "# include_top=False ----> Removing the FC layer\n",
    "\n",
    "vgg = tf.keras.applications.vgg16.VGG16(input_shape=[224,224,3],\n",
    "                                        weights=\"imagenet\",\n",
    "                                        include_top=False)\n",
    "\n",
    "#Since I am following Approach 2 (Check Whiteboard Notes :) ), I will lock weights of CNN layer and removing ANN\n",
    "\n",
    "for layer in vgg.layers:\n",
    "  layer.trainable=False #If Approach 1--- True else False"
   ]
  },
  {
   "cell_type": "code",
   "execution_count": null,
   "metadata": {
    "id": "5zHuA3cQ5EQM"
   },
   "outputs": [],
   "source": [
    "#Step4: Create FC layer\n",
    "\n",
    "#Flatten\n",
    "\n",
    "flatten = tf.keras.layers.Flatten()\n",
    "\n",
    "# You can create your hidden layers here\n",
    "\n",
    "# Output Layer\n",
    "\n",
    "finalLayer = tf.keras.layers.Dense(7,activation=\"softmax\")\n"
   ]
  },
  {
   "cell_type": "code",
   "execution_count": null,
   "metadata": {
    "id": "Z8at16cw6wG3"
   },
   "outputs": [],
   "source": [
    "#Create Final Model\n",
    "\n",
    "model = tf.keras.models.Sequential([\n",
    "                                    vgg,\n",
    "                                    flatten,\n",
    "                                    finalLayer\n",
    "])"
   ]
  },
  {
   "cell_type": "code",
   "execution_count": null,
   "metadata": {
    "colab": {
     "base_uri": "https://localhost:8080/"
    },
    "id": "-B1OOK8T678m",
    "outputId": "a96b9e75-f9d7-4816-e963-ad32c2d62a3c"
   },
   "outputs": [
    {
     "name": "stdout",
     "output_type": "stream",
     "text": [
      "Model: \"sequential\"\n",
      "_________________________________________________________________\n",
      "Layer (type)                 Output Shape              Param #   \n",
      "=================================================================\n",
      "vgg16 (Functional)           (None, 7, 7, 512)         14714688  \n",
      "_________________________________________________________________\n",
      "flatten (Flatten)            (None, 25088)             0         \n",
      "_________________________________________________________________\n",
      "dense (Dense)                (None, 7)                 175623    \n",
      "=================================================================\n",
      "Total params: 14,890,311\n",
      "Trainable params: 175,623\n",
      "Non-trainable params: 14,714,688\n",
      "_________________________________________________________________\n"
     ]
    }
   ],
   "source": [
    "model.summary()"
   ]
  },
  {
   "cell_type": "code",
   "execution_count": null,
   "metadata": {
    "colab": {
     "base_uri": "https://localhost:8080/"
    },
    "id": "3CFFZpmO684N",
    "outputId": "3b05c68c-84af-447f-897e-1e8578b4fd28"
   },
   "outputs": [
    {
     "name": "stdout",
     "output_type": "stream",
     "text": [
      "Model: \"vgg16\"\n",
      "_________________________________________________________________\n",
      "Layer (type)                 Output Shape              Param #   \n",
      "=================================================================\n",
      "input_1 (InputLayer)         [(None, 224, 224, 3)]     0         \n",
      "_________________________________________________________________\n",
      "block1_conv1 (Conv2D)        (None, 224, 224, 64)      1792      \n",
      "_________________________________________________________________\n",
      "block1_conv2 (Conv2D)        (None, 224, 224, 64)      36928     \n",
      "_________________________________________________________________\n",
      "block1_pool (MaxPooling2D)   (None, 112, 112, 64)      0         \n",
      "_________________________________________________________________\n",
      "block2_conv1 (Conv2D)        (None, 112, 112, 128)     73856     \n",
      "_________________________________________________________________\n",
      "block2_conv2 (Conv2D)        (None, 112, 112, 128)     147584    \n",
      "_________________________________________________________________\n",
      "block2_pool (MaxPooling2D)   (None, 56, 56, 128)       0         \n",
      "_________________________________________________________________\n",
      "block3_conv1 (Conv2D)        (None, 56, 56, 256)       295168    \n",
      "_________________________________________________________________\n",
      "block3_conv2 (Conv2D)        (None, 56, 56, 256)       590080    \n",
      "_________________________________________________________________\n",
      "block3_conv3 (Conv2D)        (None, 56, 56, 256)       590080    \n",
      "_________________________________________________________________\n",
      "block3_pool (MaxPooling2D)   (None, 28, 28, 256)       0         \n",
      "_________________________________________________________________\n",
      "block4_conv1 (Conv2D)        (None, 28, 28, 512)       1180160   \n",
      "_________________________________________________________________\n",
      "block4_conv2 (Conv2D)        (None, 28, 28, 512)       2359808   \n",
      "_________________________________________________________________\n",
      "block4_conv3 (Conv2D)        (None, 28, 28, 512)       2359808   \n",
      "_________________________________________________________________\n",
      "block4_pool (MaxPooling2D)   (None, 14, 14, 512)       0         \n",
      "_________________________________________________________________\n",
      "block5_conv1 (Conv2D)        (None, 14, 14, 512)       2359808   \n",
      "_________________________________________________________________\n",
      "block5_conv2 (Conv2D)        (None, 14, 14, 512)       2359808   \n",
      "_________________________________________________________________\n",
      "block5_conv3 (Conv2D)        (None, 14, 14, 512)       2359808   \n",
      "_________________________________________________________________\n",
      "block5_pool (MaxPooling2D)   (None, 7, 7, 512)         0         \n",
      "=================================================================\n",
      "Total params: 14,714,688\n",
      "Trainable params: 0\n",
      "Non-trainable params: 14,714,688\n",
      "_________________________________________________________________\n"
     ]
    }
   ],
   "source": [
    "vgg.summary()"
   ]
  },
  {
   "cell_type": "code",
   "execution_count": null,
   "metadata": {
    "id": "xKroKLnX7AVf"
   },
   "outputs": [],
   "source": [
    "#Compile\n",
    "\n",
    "model.compile(loss='categorical_crossentropy',\n",
    "              optimizer='adam',\n",
    "              metrics=['accuracy'])"
   ]
  },
  {
   "cell_type": "code",
   "execution_count": null,
   "metadata": {
    "id": "vwSMzRL47x7A"
   },
   "outputs": [],
   "source": [
    "#Callbacks\n",
    "\n",
    "# How to stop the training process if my model has converged successfully?\n",
    "#\n",
    "# Convergence Criteria:\n",
    "# 1. Model must be a generalized model ( testScore > trainScore )\n",
    "# 2. Model's Test Score >= CL\n",
    "#\n",
    "#\n",
    "# Custom Callback which satisfies the above two criteria :)\n",
    "\n",
    "class MyQualityThreshold(tf.keras.callbacks.Callback):\n",
    "  def __init__(self,cl):\n",
    "    super(MyQualityThreshold, self).__init__()\n",
    "    self.cl = cl\n",
    "  \n",
    "  def on_epoch_end(self,epoch,logs=None):\n",
    "    testScore = logs['val_accuracy']\n",
    "    trainScore = logs['accuracy']\n",
    "\n",
    "    if testScore > trainScore and testScore >= self.cl:\n",
    "      self.model.stop_training=True"
   ]
  },
  {
   "cell_type": "code",
   "execution_count": null,
   "metadata": {
    "colab": {
     "base_uri": "https://localhost:8080/"
    },
    "id": "wkUYpfnG9UwR",
    "outputId": "d779000c-280d-4e83-f9ac-cf16a0433ccc"
   },
   "outputs": [
    {
     "name": "stdout",
     "output_type": "stream",
     "text": [
      "Epoch 1/100\n",
      "107/107 [==============================] - 56s 522ms/step - loss: 0.4513 - accuracy: 0.9752 - val_loss: 0.1588 - val_accuracy: 0.9875\n"
     ]
    }
   ],
   "source": [
    "#Fit Model \n",
    "batch_size=32\n",
    "history = model.fit(train_generator,\n",
    "                    validation_data=valid_generator,\n",
    "                    epochs=100,\n",
    "                    steps_per_epoch=len(train_generator.filenames) // batch_size,\n",
    "                    validation_steps=len(valid_generator.filenames) // batch_size,\n",
    "                    callbacks=[MyQualityThreshold(0.8)])"
   ]
  },
  {
   "cell_type": "code",
   "execution_count": null,
   "metadata": {},
   "outputs": [],
   "source": [
    "#Saving Model\n",
    "model.save(\"FruitsDetector\")"
   ]
  },
  {
   "cell_type": "code",
   "execution_count": null,
   "metadata": {
    "id": "DZe1__2-okhA",
    "outputId": "8c303219-af67-44d1-da15-330e1154815e"
   },
   "outputs": [
    {
     "data": {
      "text/plain": [
       "<matplotlib.image.AxesImage at 0x1d39a4d3438>"
      ]
     },
     "execution_count": 22,
     "metadata": {},
     "output_type": "execute_result"
    },
    {
     "data": {
      "image/png": "[encoded data removed]",
      "text/plain": [
       "<Figure size 432x288 with 1 Axes>"
      ]
     },
     "metadata": {
      "needs_background": "light"
     },
     "output_type": "display_data"
    }
   ],
   "source": [
    "#Deployment Example\n",
    "#Load an Image\n",
    "import matplotlib.pyplot as plt\n",
    "import numpy as np\n",
    "%matplotlib inline\n",
    "\n",
    "imageToPredict = tf.keras.preprocessing.image.load_img('mango.jpg', target_size=(224, 224))\n",
    "plt.imshow(imageToPredict)"
   ]
  },
  {
   "cell_type": "code",
   "execution_count": null,
   "metadata": {
    "id": "c7snyVHfokhA",
    "outputId": "6a875e3b-bdaa-442f-ca38-5dfef0bd11c7"
   },
   "outputs": [
    {
     "data": {
      "text/plain": [
       "(224, 224, 3)"
      ]
     },
     "execution_count": 23,
     "metadata": {},
     "output_type": "execute_result"
    }
   ],
   "source": [
    "#Step2: Convert image to np array \n",
    "myImageNPArray = tf.keras.preprocessing.image.img_to_array(imageToPredict)\n",
    "\n",
    "myImageNPArray.shape"
   ]
  },
  {
   "cell_type": "code",
   "execution_count": null,
   "metadata": {
    "id": "HLZUC5RBokhA",
    "outputId": "2ae38812-3bf8-4d12-b83a-7822c2c20a47"
   },
   "outputs": [
    {
     "data": {
      "text/plain": [
       "(1, 224, 224, 3)"
      ]
     },
     "execution_count": 24,
     "metadata": {},
     "output_type": "execute_result"
    }
   ],
   "source": [
    "# Step3: Make the image compatible for the model by adding n\n",
    "myCompatibleImage = np.expand_dims(myImageNPArray, axis = 0)\n",
    "myCompatibleImage.shape"
   ]
  },
  {
   "cell_type": "code",
   "execution_count": null,
   "metadata": {
    "id": "brpzKHZgokhB"
   },
   "outputs": [],
   "source": [
    "#Step4: Prediction\n",
    "prediction = model.predict(myCompatibleImage)"
   ]
  },
  {
   "cell_type": "code",
   "execution_count": null,
   "metadata": {
    "id": "HF0oLNuTokhB",
    "outputId": "e65626b3-73b3-41e4-91b6-3c40ae1c4a1c"
   },
   "outputs": [
    {
     "data": {
      "text/plain": [
       "array([[9.9999893e-01, 1.1322082e-06, 2.0560207e-19, 0.0000000e+00,\n",
       "        0.0000000e+00, 6.1796632e-25, 9.1872010e-21]], dtype=float32)"
      ]
     },
     "execution_count": 26,
     "metadata": {},
     "output_type": "execute_result"
    }
   ],
   "source": [
    "prediction"
   ]
  },
  {
   "cell_type": "code",
   "execution_count": null,
   "metadata": {
    "id": "jVjpZTGYokhB",
    "outputId": "b488662c-9b03-45ad-87e3-c5e8ddc57ba9"
   },
   "outputs": [
    {
     "data": {
      "text/plain": [
       "'Banana'"
      ]
     },
     "execution_count": 36,
     "metadata": {},
     "output_type": "execute_result"
    }
   ],
   "source": [
    "list(train_generator.class_indices)[np.argmax(prediction)]"
   ]
  },
  {
   "cell_type": "code",
   "execution_count": null,
   "metadata": {
    "id": "klKbO7EbokhC"
   },
   "outputs": [],
   "source": [
    "#Hunt Assignment !!!! --- Find Ans !!\n",
    "from sklearn.metrics import confusion_matrix\n",
    "\n",
    "predictedLabels = model.predict(?)\n",
    "yActual = ?\n",
    "\n",
    "cm = confusion_matrix()"
   ]
  }
 ],
 "metadata": {
  "accelerator": "GPU",
  "colab": {
   "name": "2_TransferLearning_With_Custom_Training.ipynb",
   "provenance": []
  },
  "kernelspec": {
   "display_name": "Python 3",
   "language": "python",
   "name": "python3"
  },
  "language_info": {
   "codemirror_mode": {
    "name": "ipython",
    "version": 3
   },
   "file_extension": ".py",
   "mimetype": "text/x-python",
   "name": "python",
   "nbconvert_exporter": "python",
   "pygments_lexer": "ipython3",
   "version": "3.8.5"
  }
 },
 "nbformat": 4,
 "nbformat_minor": 1
}
