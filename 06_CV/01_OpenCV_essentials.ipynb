{
 "cells": [
  {
   "cell_type": "code",
   "execution_count": 1,
   "metadata": {},
   "outputs": [],
   "source": [
    "# Install OpenCV\n",
    "# pip install opencv-python\n",
    "# Recommended to use OpenCV 4.x.x or later"
   ]
  },
  {
   "cell_type": "code",
   "execution_count": 2,
   "metadata": {},
   "outputs": [],
   "source": [
    "import cv2"
   ]
  },
  {
   "cell_type": "code",
   "execution_count": 3,
   "metadata": {},
   "outputs": [
    {
     "data": {
      "text/plain": [
       "'4.1.0'"
      ]
     },
     "execution_count": 3,
     "metadata": {},
     "output_type": "execute_result"
    }
   ],
   "source": [
    "cv2.__version__"
   ]
  },
  {
   "cell_type": "markdown",
   "metadata": {},
   "source": [
    "# Get the realtime feeds from your camera"
   ]
  },
  {
   "cell_type": "code",
   "execution_count": 4,
   "metadata": {},
   "outputs": [],
   "source": [
    "# Get the realtime feeds from your camera\n",
    "\n",
    "# Step1: Import CV2\n",
    "\n",
    "import cv2\n",
    "\n",
    "# Step2: Enable the camera\n",
    "\n",
    "camera = cv2.VideoCapture(0)\n",
    "\n",
    "# Step3: Show camera feeds in a window\n",
    "\n",
    "while(True):\n",
    "    \n",
    "    #Grab the frame\n",
    "    _,frame = camera.read()\n",
    "    \n",
    "    #Display Frame\n",
    "    cv2.imshow(\"My Camera Feed\", frame)\n",
    "    \n",
    "    #Termination Condn ---- Press q to quit\n",
    "    if cv2.waitKey(1) & 0xFF == ord('q'):\n",
    "        break\n",
    "        \n",
    "# Step 4: Cleanup Video Memory and free resources (Camera)\n",
    "\n",
    "camera.release() #Release hardware camera\n",
    "cv2.destroyAllWindows() # Release video and other buffer memory"
   ]
  },
  {
   "cell_type": "markdown",
   "metadata": {},
   "source": [
    "# LOad the image from disk"
   ]
  },
  {
   "cell_type": "code",
   "execution_count": 5,
   "metadata": {},
   "outputs": [],
   "source": [
    "# Step1: Import CV2\n",
    "\n",
    "import cv2\n",
    "\n",
    "# Step2: Load the image\n",
    "\n",
    "inputImage = cv2.imread('image.jpg')\n",
    "\n",
    "# Step3: Display IMage\n",
    "\n",
    "cv2.imshow(\"My Image\", inputImage)\n",
    "\n",
    "# Step4: Press any key to exit\n",
    "\n",
    "cv2.waitKey()\n",
    "        \n",
    "# Step 4: Cleanup Video Memory\n",
    "\n",
    "cv2.destroyAllWindows() # Release video and other buffer memory"
   ]
  },
  {
   "cell_type": "code",
   "execution_count": 10,
   "metadata": {},
   "outputs": [
    {
     "name": "stdout",
     "output_type": "stream",
     "text": [
      "How many photos to click? :20\n"
     ]
    }
   ],
   "source": [
    "# Lets create a dataset for face recog model\n",
    "# Goal: Click n photos and store it in the folder\n",
    "\n",
    "nPhotos = int(input(\"How many photos to click? :\"))\n",
    "\n",
    "# Step1: Import CV2\n",
    "\n",
    "import cv2\n",
    "\n",
    "# Step2: Enable the camera\n",
    "\n",
    "camera = cv2.VideoCapture(0)\n",
    "\n",
    "# Step3: Show camera feeds in a window\n",
    "\n",
    "counter = 1\n",
    "\n",
    "\n",
    "while(True):\n",
    "    \n",
    "    #Grab the frame\n",
    "    _,frame = camera.read()\n",
    "    \n",
    "    #To write the frames in the disk\n",
    "    cv2.imwrite(\"dataset/Prashant/Prashant_{}.jpg\".format(counter) , frame)\n",
    "    \n",
    "    #Termination Condn ---- Press q to quit\n",
    "    if counter == nPhotos:\n",
    "        break\n",
    "    else:\n",
    "        counter += 1\n",
    "        \n",
    "# Step 4: Cleanup Video Memory and free resources (Camera)\n",
    "\n",
    "camera.release() #Release hardware camera\n",
    "cv2.destroyAllWindows() # Release video and other buffer memory"
   ]
  },
  {
   "cell_type": "markdown",
   "metadata": {},
   "source": [
    "# How to draw a rectangle in a canvas?"
   ]
  },
  {
   "cell_type": "code",
   "execution_count": 18,
   "metadata": {},
   "outputs": [],
   "source": [
    "\n",
    "# Refer: https://www.geeksforgeeks.org/python-opencv-cv2-rectangle-method/\n",
    "\n",
    "import numpy as np\n",
    "import cv2\n",
    "\n",
    "# Blank Image\n",
    "\n",
    "imageCanvas = np.zeros((512,512,3) , np.uint8 )\n",
    "\n",
    "#Create a rectangle\n",
    "# cv2.rectangle(image, start_point, end_point, color, thickness)\n",
    "\n",
    "cv2.rectangle(imageCanvas , (50,50) , (200,100) , (0,255,0) , 2 )\n",
    "\n",
    "\n",
    "cv2.imshow(\"Test\",imageCanvas)\n",
    "\n",
    "\n",
    "\n",
    "# Step4: Press any key to exit\n",
    "\n",
    "cv2.waitKey()\n",
    "        \n",
    "# Step 4: Cleanup Video Memory\n",
    "\n",
    "cv2.destroyAllWindows() # Release video and other buffer memory\n"
   ]
  },
  {
   "cell_type": "code",
   "execution_count": 21,
   "metadata": {},
   "outputs": [],
   "source": [
    "# Face Detection Program Using OpenCV Model\n",
    "# To download model go to https://github.com/opencv/opencv/tree/master/data/haarcascades\n",
    "\n",
    "# Step1: Import CV2\n",
    "\n",
    "import cv2\n",
    "\n",
    "# Step2: Enable the camera and load the model\n",
    "\n",
    "camera = cv2.VideoCapture(0)\n",
    "\n",
    "faceModel = cv2.CascadeClassifier(\"haarcascade_frontalface_default.xml\")\n",
    "\n",
    "\n",
    "#Function\n",
    "\n",
    "def detectFaceFromCamera(frame):\n",
    "    imgCopy = frame.copy()\n",
    "    faceRectCords = faceModel.detectMultiScale(imgCopy, minNeighbors = 2)\n",
    "    for (x,y,w,h) in faceRectCords:\n",
    "        cv2.rectangle(imgCopy , (x,y) , (x+w, y+h) , (0,255,0), 3)\n",
    "        \n",
    "    return imgCopy\n",
    "    \n",
    "\n",
    "# Step3: Show camera feeds in a window\n",
    "\n",
    "while(True):\n",
    "    \n",
    "    #Grab the frame\n",
    "    _,frame = camera.read()\n",
    "    \n",
    "    newFrame = detectFaceFromCamera(frame)\n",
    "    \n",
    "    \n",
    "    #Display Frame with Face\n",
    "    cv2.imshow(\"My camera feed\", newFrame)\n",
    "    \n",
    "    #Termination Condn ---- Press q to quit\n",
    "    if cv2.waitKey(1) & 0xFF == ord('q'):\n",
    "        break\n",
    "        \n",
    "# Step 4: Cleanup Video Memory and free resources (Camera)\n",
    "\n",
    "camera.release() #Release hardware camera\n",
    "cv2.destroyAllWindows() # Release video and other buffer memory"
   ]
  },
  {
   "cell_type": "code",
   "execution_count": null,
   "metadata": {},
   "outputs": [],
   "source": []
  }
 ],
 "metadata": {
  "kernelspec": {
   "display_name": "Python 3",
   "language": "python",
   "name": "python3"
  },
  "language_info": {
   "codemirror_mode": {
    "name": "ipython",
    "version": 3
   },
   "file_extension": ".py",
   "mimetype": "text/x-python",
   "name": "python",
   "nbconvert_exporter": "python",
   "pygments_lexer": "ipython3",
   "version": "3.7.7"
  }
 },
 "nbformat": 4,
 "nbformat_minor": 4
}
