{
  "nbformat": 4,
  "nbformat_minor": 0,
  "metadata": {
    "kernelspec": {
      "display_name": "Python 3",
      "language": "python",
      "name": "python3"
    },
    "language_info": {
      "codemirror_mode": {
        "name": "ipython",
        "version": 3
      },
      "file_extension": ".py",
      "mimetype": "text/x-python",
      "name": "python",
      "nbconvert_exporter": "python",
      "pygments_lexer": "ipython3",
      "version": "3.6.10"
    },
    "colab": {
      "name": "2. Loss Function .ipynb",
      "provenance": []
    }
  },
  "cells": [
    {
      "cell_type": "code",
      "metadata": {
        "id": "SwYOT9IeavOm"
      },
      "source": [
        "import tensorflow as tf"
      ],
      "execution_count": null,
      "outputs": []
    },
    {
      "cell_type": "markdown",
      "metadata": {
        "id": "JskUT2ZuavOo"
      },
      "source": [
        "# Regression"
      ]
    },
    {
      "cell_type": "markdown",
      "metadata": {
        "id": "MN78hvJFavOo"
      },
      "source": [
        "## 1. Mean Squared Error"
      ]
    },
    {
      "cell_type": "code",
      "metadata": {
        "id": "TJPWpG2bavOp",
        "outputId": "a19820ae-f610-47ea-8cf9-3f5e1cfb49ae"
      },
      "source": [
        "y_true = [[100]]\n",
        "y_pred = [[80]]\n",
        "\n",
        "mse = tf.keras.losses.MeanSquaredError()\n",
        "mse(y_true,y_pred)"
      ],
      "execution_count": null,
      "outputs": [
        {
          "output_type": "execute_result",
          "data": {
            "text/plain": [
              "<tf.Tensor: shape=(), dtype=int32, numpy=400>"
            ]
          },
          "metadata": {
            "tags": []
          },
          "execution_count": 4
        }
      ]
    },
    {
      "cell_type": "markdown",
      "metadata": {
        "id": "EAergG-tavOq"
      },
      "source": [
        "# 2. Mean Absolute Error"
      ]
    },
    {
      "cell_type": "code",
      "metadata": {
        "id": "r5Cd4JFNavOq",
        "outputId": "053eafbb-5227-4725-8ac5-aa80951f8a63"
      },
      "source": [
        "y_true = [[100]]\n",
        "y_pred = [[80]]\n",
        "\n",
        "mae = tf.keras.losses.MeanAbsoluteError()\n",
        "mae(y_true,y_pred)"
      ],
      "execution_count": null,
      "outputs": [
        {
          "output_type": "execute_result",
          "data": {
            "text/plain": [
              "<tf.Tensor: shape=(), dtype=int32, numpy=20>"
            ]
          },
          "metadata": {
            "tags": []
          },
          "execution_count": 5
        }
      ]
    },
    {
      "cell_type": "markdown",
      "metadata": {
        "id": "rBsvTJDKavOr"
      },
      "source": [
        "# Classification"
      ]
    },
    {
      "cell_type": "markdown",
      "metadata": {
        "id": "xOthpzq0avOr"
      },
      "source": [
        "### 1. Binary Cross Entropy"
      ]
    },
    {
      "cell_type": "markdown",
      "metadata": {
        "id": "rvzrXOTJavOr"
      },
      "source": [
        " Entropy is used if the output emitted from any instance is a prob value (0 to 1)"
      ]
    },
    {
      "cell_type": "code",
      "metadata": {
        "id": "l6C-LcUDavOs"
      },
      "source": [
        "y_true = [[1]]\n",
        "y_pred = [[0.7]]"
      ],
      "execution_count": null,
      "outputs": []
    },
    {
      "cell_type": "code",
      "metadata": {
        "id": "DndMAZZ-avOs",
        "outputId": "13265b76-94f4-4c7d-86d3-85eacde61d23"
      },
      "source": [
        "import numpy as np\n",
        "-( (1 * np.log(0.7)) + (1-1) * np.log(1-0.7))"
      ],
      "execution_count": null,
      "outputs": [
        {
          "output_type": "execute_result",
          "data": {
            "text/plain": [
              "0.35667494393873245"
            ]
          },
          "metadata": {
            "tags": []
          },
          "execution_count": 7
        }
      ]
    },
    {
      "cell_type": "code",
      "metadata": {
        "id": "p9fI6yreavOt"
      },
      "source": [
        "#bce = tf.keras.losses.binary_crossentropy\n",
        "#bce(y_true,y_pred)\n",
        "#Check in Colab"
      ],
      "execution_count": null,
      "outputs": []
    },
    {
      "cell_type": "markdown",
      "metadata": {
        "id": "1fAECwFVavOt"
      },
      "source": [
        "### 2. Categorical Cross Entropy"
      ]
    },
    {
      "cell_type": "code",
      "metadata": {
        "id": "We4loBwMavOt"
      },
      "source": [
        "y_true = [[0,1,0]]\n",
        "y_pred = [[0.05,0.95,0.000000000000001]]"
      ],
      "execution_count": null,
      "outputs": []
    },
    {
      "cell_type": "code",
      "metadata": {
        "id": "47rikvUiavOt",
        "outputId": "b8c529e1-5590-4f95-ad19-72635eb46de9"
      },
      "source": [
        "-( (0 * np.log(0.05)) + (1 * np.log(0.95)) + (0 * np.log(0.000000000000001)))"
      ],
      "execution_count": null,
      "outputs": [
        {
          "output_type": "execute_result",
          "data": {
            "text/plain": [
              "0.05129329438755058"
            ]
          },
          "metadata": {
            "tags": []
          },
          "execution_count": 13
        }
      ]
    },
    {
      "cell_type": "code",
      "metadata": {
        "id": "JqFIwlGwavOu",
        "outputId": "456a12ed-f7dc-4f18-b562-dd73c4efd215"
      },
      "source": [
        "cce = tf.keras.losses.CategoricalCrossentropy()\n",
        "cce(y_true,y_pred)"
      ],
      "execution_count": null,
      "outputs": [
        {
          "output_type": "execute_result",
          "data": {
            "text/plain": [
              "<tf.Tensor: shape=(), dtype=float32, numpy=0.051293306>"
            ]
          },
          "metadata": {
            "tags": []
          },
          "execution_count": 14
        }
      ]
    },
    {
      "cell_type": "code",
      "metadata": {
        "id": "Xv82nn9bavOu"
      },
      "source": [
        ""
      ],
      "execution_count": null,
      "outputs": []
    }
  ]
}