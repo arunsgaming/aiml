{
 "cells": [
  {
   "cell_type": "markdown",
   "metadata": {
    "id": "Ydeb8eJqMrbj"
   },
   "source": [
    "# Use-case: An HR company has hired you as an AI engineer. Your goal is to create a model that can predict the salary of the employee based on employee's yearsOfExperience"
   ]
  },
  {
   "cell_type": "code",
   "execution_count": 1,
   "metadata": {
    "executionInfo": {
     "elapsed": 1442,
     "status": "ok",
     "timestamp": 1627108113719,
     "user": {
      "displayName": "Prashant Nair",
      "photoUrl": "",
      "userId": "01567311054365266478"
     },
     "user_tz": -330
    },
    "id": "ybE5C8QVMrbk"
   },
   "outputs": [],
   "source": [
    "import numpy as np\n",
    "import pandas as pd"
   ]
  },
  {
   "cell_type": "code",
   "execution_count": 2,
   "metadata": {
    "executionInfo": {
     "elapsed": 2,
     "status": "ok",
     "timestamp": 1627108114071,
     "user": {
      "displayName": "Prashant Nair",
      "photoUrl": "",
      "userId": "01567311054365266478"
     },
     "user_tz": -330
    },
    "id": "o6VO9O-TMrbl"
   },
   "outputs": [],
   "source": [
    "data = pd.read_csv('Salary_Data.csv')"
   ]
  },
  {
   "cell_type": "code",
   "execution_count": 3,
   "metadata": {
    "colab": {
     "base_uri": "https://localhost:8080/",
     "height": 202
    },
    "executionInfo": {
     "elapsed": 5,
     "status": "ok",
     "timestamp": 1627108115558,
     "user": {
      "displayName": "Prashant Nair",
      "photoUrl": "",
      "userId": "01567311054365266478"
     },
     "user_tz": -330
    },
    "id": "7TB9KwdlMrbl",
    "outputId": "32911b21-ec78-4585-d4ef-b9b6f175421d"
   },
   "outputs": [
    {
     "data": {
      "text/html": [
       "<div>\n",
       "<style scoped>\n",
       "    .dataframe tbody tr th:only-of-type {\n",
       "        vertical-align: middle;\n",
       "    }\n",
       "\n",
       "    .dataframe tbody tr th {\n",
       "        vertical-align: top;\n",
       "    }\n",
       "\n",
       "    .dataframe thead th {\n",
       "        text-align: right;\n",
       "    }\n",
       "</style>\n",
       "<table border=\"1\" class=\"dataframe\">\n",
       "  <thead>\n",
       "    <tr style=\"text-align: right;\">\n",
       "      <th></th>\n",
       "      <th>YearsExperience</th>\n",
       "      <th>Salary</th>\n",
       "    </tr>\n",
       "  </thead>\n",
       "  <tbody>\n",
       "    <tr>\n",
       "      <th>0</th>\n",
       "      <td>1.1</td>\n",
       "      <td>39343.0</td>\n",
       "    </tr>\n",
       "    <tr>\n",
       "      <th>1</th>\n",
       "      <td>1.3</td>\n",
       "      <td>46205.0</td>\n",
       "    </tr>\n",
       "    <tr>\n",
       "      <th>2</th>\n",
       "      <td>1.5</td>\n",
       "      <td>37731.0</td>\n",
       "    </tr>\n",
       "    <tr>\n",
       "      <th>3</th>\n",
       "      <td>2.0</td>\n",
       "      <td>43525.0</td>\n",
       "    </tr>\n",
       "    <tr>\n",
       "      <th>4</th>\n",
       "      <td>2.2</td>\n",
       "      <td>39891.0</td>\n",
       "    </tr>\n",
       "  </tbody>\n",
       "</table>\n",
       "</div>"
      ],
      "text/plain": [
       "   YearsExperience   Salary\n",
       "0              1.1  39343.0\n",
       "1              1.3  46205.0\n",
       "2              1.5  37731.0\n",
       "3              2.0  43525.0\n",
       "4              2.2  39891.0"
      ]
     },
     "execution_count": 3,
     "metadata": {
      "tags": []
     },
     "output_type": "execute_result"
    }
   ],
   "source": [
    "data.head()"
   ]
  },
  {
   "cell_type": "code",
   "execution_count": 4,
   "metadata": {
    "colab": {
     "base_uri": "https://localhost:8080/"
    },
    "executionInfo": {
     "elapsed": 3,
     "status": "ok",
     "timestamp": 1627108116783,
     "user": {
      "displayName": "Prashant Nair",
      "photoUrl": "",
      "userId": "01567311054365266478"
     },
     "user_tz": -330
    },
    "id": "VLKRojYAMrbm",
    "outputId": "2d034786-5aa9-432d-8389-58366b90380e"
   },
   "outputs": [
    {
     "name": "stdout",
     "output_type": "stream",
     "text": [
      "<class 'pandas.core.frame.DataFrame'>\n",
      "RangeIndex: 31 entries, 0 to 30\n",
      "Data columns (total 2 columns):\n",
      " #   Column           Non-Null Count  Dtype  \n",
      "---  ------           --------------  -----  \n",
      " 0   YearsExperience  30 non-null     float64\n",
      " 1   Salary           30 non-null     float64\n",
      "dtypes: float64(2)\n",
      "memory usage: 624.0 bytes\n"
     ]
    }
   ],
   "source": [
    "data.info()"
   ]
  },
  {
   "cell_type": "code",
   "execution_count": 5,
   "metadata": {
    "executionInfo": {
     "elapsed": 2,
     "status": "ok",
     "timestamp": 1627108117744,
     "user": {
      "displayName": "Prashant Nair",
      "photoUrl": "",
      "userId": "01567311054365266478"
     },
     "user_tz": -330
    },
    "id": "pXbfLxt5Mrbn"
   },
   "outputs": [],
   "source": [
    "data.dropna(inplace=True)"
   ]
  },
  {
   "cell_type": "code",
   "execution_count": 6,
   "metadata": {
    "colab": {
     "base_uri": "https://localhost:8080/"
    },
    "executionInfo": {
     "elapsed": 2,
     "status": "ok",
     "timestamp": 1627108119071,
     "user": {
      "displayName": "Prashant Nair",
      "photoUrl": "",
      "userId": "01567311054365266478"
     },
     "user_tz": -330
    },
    "id": "VB_e6kUgMrbn",
    "outputId": "d4b6e5eb-a22c-4958-b499-a0d0896009b4"
   },
   "outputs": [
    {
     "name": "stdout",
     "output_type": "stream",
     "text": [
      "<class 'pandas.core.frame.DataFrame'>\n",
      "Int64Index: 30 entries, 0 to 29\n",
      "Data columns (total 2 columns):\n",
      " #   Column           Non-Null Count  Dtype  \n",
      "---  ------           --------------  -----  \n",
      " 0   YearsExperience  30 non-null     float64\n",
      " 1   Salary           30 non-null     float64\n",
      "dtypes: float64(2)\n",
      "memory usage: 720.0 bytes\n"
     ]
    }
   ],
   "source": [
    "data.info()"
   ]
  },
  {
   "cell_type": "code",
   "execution_count": 7,
   "metadata": {
    "executionInfo": {
     "elapsed": 1,
     "status": "ok",
     "timestamp": 1627108119919,
     "user": {
      "displayName": "Prashant Nair",
      "photoUrl": "",
      "userId": "01567311054365266478"
     },
     "user_tz": -330
    },
    "id": "1bpO5Mg5Mrbn"
   },
   "outputs": [],
   "source": [
    "\n",
    "# Rules for Regression ---- DEEP LEARNING\n",
    "# =================================================================\n",
    "# 1. Data must be complete\n",
    "# 2. Data must be strictly numeric\n",
    "# 3. Feature column must be represented in the form of 2d np array\n",
    "# 4. Label column must be represented in the form of 2d np array\n",
    "# 5. Normalize Features and label \n",
    "\n",
    "# Guidelines\n",
    "#--------------------------------------------------------------------------------\n",
    "# 1. Features must be normalized (Always use StandardScaler or RobustScaler)\n",
    "# 2. Label must be normalized (Always use MinMaxScaler with range 0-1)\n"
   ]
  },
  {
   "cell_type": "code",
   "execution_count": 8,
   "metadata": {
    "executionInfo": {
     "elapsed": 2,
     "status": "ok",
     "timestamp": 1627108120902,
     "user": {
      "displayName": "Prashant Nair",
      "photoUrl": "",
      "userId": "01567311054365266478"
     },
     "user_tz": -330
    },
    "id": "gpKVvu0QMrbo"
   },
   "outputs": [],
   "source": [
    "#Create Feature and label set\n",
    "\n",
    "features = data.iloc[:,[0]].values\n",
    "label = data.iloc[:,[1]].values"
   ]
  },
  {
   "cell_type": "code",
   "execution_count": 9,
   "metadata": {
    "executionInfo": {
     "elapsed": 3,
     "status": "ok",
     "timestamp": 1627108122111,
     "user": {
      "displayName": "Prashant Nair",
      "photoUrl": "",
      "userId": "01567311054365266478"
     },
     "user_tz": -330
    },
    "id": "jlaS96DeMrbo"
   },
   "outputs": [],
   "source": [
    "#label #39343.0.01904087"
   ]
  },
  {
   "cell_type": "code",
   "execution_count": 10,
   "metadata": {
    "executionInfo": {
     "elapsed": 938,
     "status": "ok",
     "timestamp": 1627108123624,
     "user": {
      "displayName": "Prashant Nair",
      "photoUrl": "",
      "userId": "01567311054365266478"
     },
     "user_tz": -330
    },
    "id": "i6rRhd5sMrbp"
   },
   "outputs": [],
   "source": [
    "# Standardization/Normalization\n",
    "\n",
    "#Features\n",
    "from sklearn.preprocessing import StandardScaler\n",
    "scFeatures = StandardScaler()\n",
    "features = scFeatures.fit_transform(features)\n",
    "\n",
    "\n",
    "#Label\n",
    "from sklearn.preprocessing import MinMaxScaler\n",
    "minmaxLabel = MinMaxScaler()\n",
    "label = minmaxLabel.fit_transform(label)"
   ]
  },
  {
   "cell_type": "code",
   "execution_count": 11,
   "metadata": {
    "colab": {
     "base_uri": "https://localhost:8080/"
    },
    "executionInfo": {
     "elapsed": 3,
     "status": "ok",
     "timestamp": 1627108123625,
     "user": {
      "displayName": "Prashant Nair",
      "photoUrl": "",
      "userId": "01567311054365266478"
     },
     "user_tz": -330
    },
    "id": "Czch62WKMrbp",
    "outputId": "12a6201f-a7ff-422c-b35c-ad0dbc911d95"
   },
   "outputs": [
    {
     "data": {
      "text/plain": [
       "array([[39343.0000542]])"
      ]
     },
     "execution_count": 11,
     "metadata": {
      "tags": []
     },
     "output_type": "execute_result"
    }
   ],
   "source": [
    "minmaxLabel.inverse_transform(np.array([[0.01904087]]))"
   ]
  },
  {
   "cell_type": "code",
   "execution_count": 12,
   "metadata": {
    "executionInfo": {
     "elapsed": 2,
     "status": "ok",
     "timestamp": 1627108125056,
     "user": {
      "displayName": "Prashant Nair",
      "photoUrl": "",
      "userId": "01567311054365266478"
     },
     "user_tz": -330
    },
    "id": "Rt7JvpKYMrbp"
   },
   "outputs": [],
   "source": [
    "# Train Test Split\n",
    "\n",
    "from sklearn.model_selection import train_test_split\n",
    "X_train,X_test,y_train,y_test = train_test_split(features,\n",
    "                                                label,\n",
    "                                                test_size=0.2,\n",
    "                                                random_state=10)"
   ]
  },
  {
   "cell_type": "markdown",
   "metadata": {
    "id": "7NGbkI1AMrbq"
   },
   "source": [
    "## Modelling Starts ...."
   ]
  },
  {
   "cell_type": "code",
   "execution_count": 13,
   "metadata": {
    "colab": {
     "base_uri": "https://localhost:8080/",
     "height": 161
    },
    "executionInfo": {
     "elapsed": 365,
     "status": "error",
     "timestamp": 1627108128093,
     "user": {
      "displayName": "Prashant Nair",
      "photoUrl": "",
      "userId": "01567311054365266478"
     },
     "user_tz": -330
    },
    "id": "xCF4kIo5Mrbq",
    "outputId": "0d4c7d9e-ad43-4d68-aa90-0496f6e243e0"
   },
   "outputs": [
    {
     "ename": "NameError",
     "evalue": "ignored",
     "output_type": "error",
     "traceback": [
      "\u001b[0;31m---------------------------------------------------------------------------\u001b[0m",
      "\u001b[0;31mNameError\u001b[0m                                 Traceback (most recent call last)",
      "\u001b[0;32m<ipython-input-13-65996cac02ec>\u001b[0m in \u001b[0;36m<module>\u001b[0;34m()\u001b[0m\n\u001b[0;32m----> 1\u001b[0;31m \u001b[0mtf\u001b[0m\u001b[0;34m.\u001b[0m\u001b[0m__version__\u001b[0m\u001b[0;34m\u001b[0m\u001b[0;34m\u001b[0m\u001b[0m\n\u001b[0m",
      "\u001b[0;31mNameError\u001b[0m: name 'tf' is not defined"
     ]
    }
   ],
   "source": [
    "tf.__version__"
   ]
  },
  {
   "cell_type": "code",
   "execution_count": 14,
   "metadata": {
    "executionInfo": {
     "elapsed": 7970,
     "status": "ok",
     "timestamp": 1627108136578,
     "user": {
      "displayName": "Prashant Nair",
      "photoUrl": "",
      "userId": "01567311054365266478"
     },
     "user_tz": -330
    },
    "id": "g9M8fRZDMrbq"
   },
   "outputs": [],
   "source": [
    "#Step1: Archiect the model\n",
    "\n",
    "#pip install tensorflow\n",
    "\n",
    "import tensorflow as tf\n",
    "\n",
    "\n",
    "#Step1:Create a Sequential Object\n",
    "\n",
    "model = tf.keras.models.Sequential()\n",
    "\n",
    "#Step2: Create Dense Layers\n",
    "# units = No of Neurons in Hidden Layer\n",
    "# activation = Which Activation Function to apply for Hidden Layer/Output Layer\n",
    "# input_shape = Applicable for first layer to specify number of column inputs in training set\n",
    "\n",
    "\n",
    "# Input Layer1 containing one neuron followed by Hidden layer1 \n",
    "# containing 100 neurons with activation fn Sigmoid\n",
    "model.add( tf.keras.layers.Dense( units=100 , activation='relu', input_shape=(1,)) )\n",
    "model.add( tf.keras.layers.Dense( units=100 , activation='relu') )\n",
    "model.add( tf.keras.layers.Dense( units=100 , activation='relu') )\n",
    "model.add( tf.keras.layers.Dense( units=1 , activation='linear') )\n",
    "\n",
    "\n",
    "\n",
    "\n"
   ]
  },
  {
   "cell_type": "code",
   "execution_count": 15,
   "metadata": {
    "executionInfo": {
     "elapsed": 1,
     "status": "ok",
     "timestamp": 1627108138355,
     "user": {
      "displayName": "Prashant Nair",
      "photoUrl": "",
      "userId": "01567311054365266478"
     },
     "user_tz": -330
    },
    "id": "2tM3mtHbMrbq"
   },
   "outputs": [],
   "source": [
    "#Create a custom r2 function\n",
    "\n",
    "def r2_keras_custom(y_true,y_pred):\n",
    "    SS_res = tf.keras.backend.sum(tf.keras.backend.square(y_true-y_pred))\n",
    "    SS_total = tf.keras.backend.sum(tf.keras.backend.square(y_true - tf.keras.backend.mean(y_true)))\n",
    "    \n",
    "    return  (1 - (SS_res / SS_total + tf.keras.backend.epsilon()))"
   ]
  },
  {
   "cell_type": "code",
   "execution_count": 16,
   "metadata": {
    "executionInfo": {
     "elapsed": 1,
     "status": "ok",
     "timestamp": 1627108140030,
     "user": {
      "displayName": "Prashant Nair",
      "photoUrl": "",
      "userId": "01567311054365266478"
     },
     "user_tz": -330
    },
    "id": "80i3L3MQMrbr"
   },
   "outputs": [],
   "source": [
    "#Step2: Compile Model\n",
    "# This allows you to initialize \n",
    "# 1. optimizer = BackPropogation Algorithm (Stochastic Gradient Descent)\n",
    "# 2. loss = Specify the loss function\n",
    "# 3. metrics = Other metrics that can help\n",
    "\n",
    "\n",
    "model.compile(optimizer=\"sgd\",\n",
    "             loss=\"mean_squared_error\",\n",
    "             metrics=[r2_keras_custom])"
   ]
  },
  {
   "cell_type": "code",
   "execution_count": 17,
   "metadata": {
    "executionInfo": {
     "elapsed": 1,
     "status": "ok",
     "timestamp": 1627108141504,
     "user": {
      "displayName": "Prashant Nair",
      "photoUrl": "",
      "userId": "01567311054365266478"
     },
     "user_tz": -330
    },
    "id": "NABuR2MAMrbr"
   },
   "outputs": [],
   "source": [
    "# Create Custom EarlyStopping Condition --- Callbacks\n",
    "# I want my model to be generalized and my testScore >= CL\n",
    "# Assume for this use-case : SL = 0.05\n",
    "# CL = 1 - SL = 0.95\n",
    "\n",
    "\n",
    "class MyThresholdCallback(tf.keras.callbacks.Callback):\n",
    "    def __init__(self,cl):\n",
    "        super(MyThresholdCallback,self).__init__()\n",
    "        self.cl=cl\n",
    "        \n",
    "    def on_epoch_end(self, epoch, logs=None):\n",
    "        testScore = logs['val_r2_keras_custom']\n",
    "        trainScore = logs['r2_keras_custom']\n",
    "        \n",
    "        if testScore > trainScore and testScore >= self.cl:\n",
    "            self.model.stop_training = True"
   ]
  },
  {
   "cell_type": "code",
   "execution_count": 18,
   "metadata": {
    "colab": {
     "base_uri": "https://localhost:8080/"
    },
    "executionInfo": {
     "elapsed": 16806,
     "status": "ok",
     "timestamp": 1627108159783,
     "user": {
      "displayName": "Prashant Nair",
      "photoUrl": "",
      "userId": "01567311054365266478"
     },
     "user_tz": -330
    },
    "id": "fKX7qMoBMrbr",
    "outputId": "2625ea7a-e071-4f4c-c689-1083a95f7b4b"
   },
   "outputs": [
    {
     "name": "stdout",
     "output_type": "stream",
     "text": [
      "Epoch 1/1000\n",
      "1/1 [==============================] - 3s 3s/step - loss: 0.2939 - r2_keras_custom: -1.8942 - val_loss: 0.1373 - val_r2_keras_custom: -0.8464\n",
      "Epoch 2/1000\n",
      "1/1 [==============================] - 0s 34ms/step - loss: 0.2679 - r2_keras_custom: -1.6380 - val_loss: 0.1264 - val_r2_keras_custom: -0.6993\n",
      "Epoch 3/1000\n",
      "1/1 [==============================] - 0s 30ms/step - loss: 0.2450 - r2_keras_custom: -1.4126 - val_loss: 0.1173 - val_r2_keras_custom: -0.5766\n",
      "Epoch 4/1000\n",
      "1/1 [==============================] - 0s 22ms/step - loss: 0.2246 - r2_keras_custom: -1.2117 - val_loss: 0.1097 - val_r2_keras_custom: -0.4747\n",
      "Epoch 5/1000\n",
      "1/1 [==============================] - 0s 22ms/step - loss: 0.2067 - r2_keras_custom: -1.0362 - val_loss: 0.1032 - val_r2_keras_custom: -0.3878\n",
      "Epoch 6/1000\n",
      "1/1 [==============================] - 0s 21ms/step - loss: 0.1910 - r2_keras_custom: -0.8806 - val_loss: 0.0978 - val_r2_keras_custom: -0.3150\n",
      "Epoch 7/1000\n",
      "1/1 [==============================] - 0s 22ms/step - loss: 0.1769 - r2_keras_custom: -0.7423 - val_loss: 0.0932 - val_r2_keras_custom: -0.2533\n",
      "Epoch 8/1000\n",
      "1/1 [==============================] - 0s 23ms/step - loss: 0.1643 - r2_keras_custom: -0.6182 - val_loss: 0.0892 - val_r2_keras_custom: -0.1996\n",
      "Epoch 9/1000\n",
      "1/1 [==============================] - 0s 21ms/step - loss: 0.1529 - r2_keras_custom: -0.5058 - val_loss: 0.0857 - val_r2_keras_custom: -0.1527\n",
      "Epoch 10/1000\n",
      "1/1 [==============================] - 0s 26ms/step - loss: 0.1425 - r2_keras_custom: -0.4037 - val_loss: 0.0827 - val_r2_keras_custom: -0.1116\n",
      "Epoch 11/1000\n",
      "1/1 [==============================] - 0s 30ms/step - loss: 0.1330 - r2_keras_custom: -0.3102 - val_loss: 0.0800 - val_r2_keras_custom: -0.0760\n",
      "Epoch 12/1000\n",
      "1/1 [==============================] - 0s 22ms/step - loss: 0.1244 - r2_keras_custom: -0.2254 - val_loss: 0.0777 - val_r2_keras_custom: -0.0454\n",
      "Epoch 13/1000\n",
      "1/1 [==============================] - 0s 21ms/step - loss: 0.1166 - r2_keras_custom: -0.1484 - val_loss: 0.0757 - val_r2_keras_custom: -0.0181\n",
      "Epoch 14/1000\n",
      "1/1 [==============================] - 0s 20ms/step - loss: 0.1095 - r2_keras_custom: -0.0779 - val_loss: 0.0739 - val_r2_keras_custom: 0.0064\n",
      "Epoch 15/1000\n",
      "1/1 [==============================] - 0s 23ms/step - loss: 0.1029 - r2_keras_custom: -0.0137 - val_loss: 0.0723 - val_r2_keras_custom: 0.0284\n",
      "Epoch 16/1000\n",
      "1/1 [==============================] - 0s 24ms/step - loss: 0.0970 - r2_keras_custom: 0.0449 - val_loss: 0.0708 - val_r2_keras_custom: 0.0486\n",
      "Epoch 17/1000\n",
      "1/1 [==============================] - 0s 24ms/step - loss: 0.0915 - r2_keras_custom: 0.0985 - val_loss: 0.0694 - val_r2_keras_custom: 0.0672\n",
      "Epoch 18/1000\n",
      "1/1 [==============================] - 0s 25ms/step - loss: 0.0865 - r2_keras_custom: 0.1478 - val_loss: 0.0681 - val_r2_keras_custom: 0.0845\n",
      "Epoch 19/1000\n",
      "1/1 [==============================] - 0s 25ms/step - loss: 0.0819 - r2_keras_custom: 0.1931 - val_loss: 0.0669 - val_r2_keras_custom: 0.1007\n",
      "Epoch 20/1000\n",
      "1/1 [==============================] - 0s 23ms/step - loss: 0.0777 - r2_keras_custom: 0.2348 - val_loss: 0.0657 - val_r2_keras_custom: 0.1161\n",
      "Epoch 21/1000\n",
      "1/1 [==============================] - 0s 23ms/step - loss: 0.0738 - r2_keras_custom: 0.2734 - val_loss: 0.0646 - val_r2_keras_custom: 0.1309\n",
      "Epoch 22/1000\n",
      "1/1 [==============================] - 0s 22ms/step - loss: 0.0702 - r2_keras_custom: 0.3091 - val_loss: 0.0636 - val_r2_keras_custom: 0.1454\n",
      "Epoch 23/1000\n",
      "1/1 [==============================] - 0s 26ms/step - loss: 0.0668 - r2_keras_custom: 0.3423 - val_loss: 0.0625 - val_r2_keras_custom: 0.1595\n",
      "Epoch 24/1000\n",
      "1/1 [==============================] - 0s 20ms/step - loss: 0.0636 - r2_keras_custom: 0.3733 - val_loss: 0.0615 - val_r2_keras_custom: 0.1735\n",
      "Epoch 25/1000\n",
      "1/1 [==============================] - 0s 22ms/step - loss: 0.0607 - r2_keras_custom: 0.4022 - val_loss: 0.0605 - val_r2_keras_custom: 0.1872\n",
      "Epoch 26/1000\n",
      "1/1 [==============================] - 0s 22ms/step - loss: 0.0580 - r2_keras_custom: 0.4292 - val_loss: 0.0594 - val_r2_keras_custom: 0.2007\n",
      "Epoch 27/1000\n",
      "1/1 [==============================] - 0s 21ms/step - loss: 0.0554 - r2_keras_custom: 0.4545 - val_loss: 0.0584 - val_r2_keras_custom: 0.2141\n",
      "Epoch 28/1000\n",
      "1/1 [==============================] - 0s 23ms/step - loss: 0.0530 - r2_keras_custom: 0.4782 - val_loss: 0.0575 - val_r2_keras_custom: 0.2275\n",
      "Epoch 29/1000\n",
      "1/1 [==============================] - 0s 23ms/step - loss: 0.0507 - r2_keras_custom: 0.5004 - val_loss: 0.0565 - val_r2_keras_custom: 0.2408\n",
      "Epoch 30/1000\n",
      "1/1 [==============================] - 0s 22ms/step - loss: 0.0486 - r2_keras_custom: 0.5213 - val_loss: 0.0555 - val_r2_keras_custom: 0.2543\n",
      "Epoch 31/1000\n",
      "1/1 [==============================] - 0s 21ms/step - loss: 0.0466 - r2_keras_custom: 0.5411 - val_loss: 0.0545 - val_r2_keras_custom: 0.2678\n",
      "Epoch 32/1000\n",
      "1/1 [==============================] - 0s 20ms/step - loss: 0.0447 - r2_keras_custom: 0.5597 - val_loss: 0.0535 - val_r2_keras_custom: 0.2813\n",
      "Epoch 33/1000\n",
      "1/1 [==============================] - 0s 20ms/step - loss: 0.0429 - r2_keras_custom: 0.5772 - val_loss: 0.0525 - val_r2_keras_custom: 0.2944\n",
      "Epoch 34/1000\n",
      "1/1 [==============================] - 0s 30ms/step - loss: 0.0412 - r2_keras_custom: 0.5938 - val_loss: 0.0515 - val_r2_keras_custom: 0.3077\n",
      "Epoch 35/1000\n",
      "1/1 [==============================] - 0s 25ms/step - loss: 0.0397 - r2_keras_custom: 0.6095 - val_loss: 0.0505 - val_r2_keras_custom: 0.3209\n",
      "Epoch 36/1000\n",
      "1/1 [==============================] - 0s 27ms/step - loss: 0.0381 - r2_keras_custom: 0.6244 - val_loss: 0.0495 - val_r2_keras_custom: 0.3340\n",
      "Epoch 37/1000\n",
      "1/1 [==============================] - 0s 23ms/step - loss: 0.0367 - r2_keras_custom: 0.6385 - val_loss: 0.0486 - val_r2_keras_custom: 0.3469\n",
      "Epoch 38/1000\n",
      "1/1 [==============================] - 0s 28ms/step - loss: 0.0353 - r2_keras_custom: 0.6519 - val_loss: 0.0476 - val_r2_keras_custom: 0.3598\n",
      "Epoch 39/1000\n",
      "1/1 [==============================] - 0s 27ms/step - loss: 0.0341 - r2_keras_custom: 0.6647 - val_loss: 0.0467 - val_r2_keras_custom: 0.3725\n",
      "Epoch 40/1000\n",
      "1/1 [==============================] - 0s 21ms/step - loss: 0.0328 - r2_keras_custom: 0.6768 - val_loss: 0.0457 - val_r2_keras_custom: 0.3853\n",
      "Epoch 41/1000\n",
      "1/1 [==============================] - 0s 22ms/step - loss: 0.0317 - r2_keras_custom: 0.6883 - val_loss: 0.0448 - val_r2_keras_custom: 0.3978\n",
      "Epoch 42/1000\n",
      "1/1 [==============================] - 0s 24ms/step - loss: 0.0305 - r2_keras_custom: 0.6992 - val_loss: 0.0439 - val_r2_keras_custom: 0.4103\n",
      "Epoch 43/1000\n",
      "1/1 [==============================] - 0s 21ms/step - loss: 0.0295 - r2_keras_custom: 0.7097 - val_loss: 0.0429 - val_r2_keras_custom: 0.4228\n",
      "Epoch 44/1000\n",
      "1/1 [==============================] - 0s 23ms/step - loss: 0.0285 - r2_keras_custom: 0.7197 - val_loss: 0.0420 - val_r2_keras_custom: 0.4352\n",
      "Epoch 45/1000\n",
      "1/1 [==============================] - 0s 22ms/step - loss: 0.0275 - r2_keras_custom: 0.7292 - val_loss: 0.0411 - val_r2_keras_custom: 0.4475\n",
      "Epoch 46/1000\n",
      "1/1 [==============================] - 0s 39ms/step - loss: 0.0266 - r2_keras_custom: 0.7383 - val_loss: 0.0402 - val_r2_keras_custom: 0.4596\n",
      "Epoch 47/1000\n",
      "1/1 [==============================] - 0s 26ms/step - loss: 0.0257 - r2_keras_custom: 0.7471 - val_loss: 0.0393 - val_r2_keras_custom: 0.4717\n",
      "Epoch 48/1000\n",
      "1/1 [==============================] - 0s 24ms/step - loss: 0.0248 - r2_keras_custom: 0.7554 - val_loss: 0.0384 - val_r2_keras_custom: 0.4835\n",
      "Epoch 49/1000\n",
      "1/1 [==============================] - 0s 23ms/step - loss: 0.0240 - r2_keras_custom: 0.7634 - val_loss: 0.0375 - val_r2_keras_custom: 0.4951\n",
      "Epoch 50/1000\n",
      "1/1 [==============================] - 0s 22ms/step - loss: 0.0232 - r2_keras_custom: 0.7711 - val_loss: 0.0367 - val_r2_keras_custom: 0.5066\n",
      "Epoch 51/1000\n",
      "1/1 [==============================] - 0s 23ms/step - loss: 0.0225 - r2_keras_custom: 0.7783 - val_loss: 0.0359 - val_r2_keras_custom: 0.5178\n",
      "Epoch 52/1000\n",
      "1/1 [==============================] - 0s 24ms/step - loss: 0.0218 - r2_keras_custom: 0.7853 - val_loss: 0.0350 - val_r2_keras_custom: 0.5288\n",
      "Epoch 53/1000\n",
      "1/1 [==============================] - 0s 24ms/step - loss: 0.0211 - r2_keras_custom: 0.7919 - val_loss: 0.0342 - val_r2_keras_custom: 0.5396\n",
      "Epoch 54/1000\n",
      "1/1 [==============================] - 0s 23ms/step - loss: 0.0205 - r2_keras_custom: 0.7983 - val_loss: 0.0334 - val_r2_keras_custom: 0.5503\n",
      "Epoch 55/1000\n",
      "1/1 [==============================] - 0s 22ms/step - loss: 0.0199 - r2_keras_custom: 0.8045 - val_loss: 0.0327 - val_r2_keras_custom: 0.5607\n",
      "Epoch 56/1000\n",
      "1/1 [==============================] - 0s 22ms/step - loss: 0.0193 - r2_keras_custom: 0.8103 - val_loss: 0.0319 - val_r2_keras_custom: 0.5708\n",
      "Epoch 57/1000\n",
      "1/1 [==============================] - 0s 24ms/step - loss: 0.0187 - r2_keras_custom: 0.8159 - val_loss: 0.0312 - val_r2_keras_custom: 0.5806\n",
      "Epoch 58/1000\n",
      "1/1 [==============================] - 0s 23ms/step - loss: 0.0181 - r2_keras_custom: 0.8213 - val_loss: 0.0305 - val_r2_keras_custom: 0.5902\n",
      "Epoch 59/1000\n",
      "1/1 [==============================] - 0s 22ms/step - loss: 0.0176 - r2_keras_custom: 0.8264 - val_loss: 0.0298 - val_r2_keras_custom: 0.5995\n",
      "Epoch 60/1000\n",
      "1/1 [==============================] - 0s 25ms/step - loss: 0.0171 - r2_keras_custom: 0.8314 - val_loss: 0.0291 - val_r2_keras_custom: 0.6086\n",
      "Epoch 61/1000\n",
      "1/1 [==============================] - 0s 23ms/step - loss: 0.0166 - r2_keras_custom: 0.8361 - val_loss: 0.0284 - val_r2_keras_custom: 0.6176\n",
      "Epoch 62/1000\n",
      "1/1 [==============================] - 0s 29ms/step - loss: 0.0162 - r2_keras_custom: 0.8406 - val_loss: 0.0278 - val_r2_keras_custom: 0.6262\n",
      "Epoch 63/1000\n",
      "1/1 [==============================] - 0s 22ms/step - loss: 0.0157 - r2_keras_custom: 0.8450 - val_loss: 0.0272 - val_r2_keras_custom: 0.6348\n",
      "Epoch 64/1000\n",
      "1/1 [==============================] - 0s 27ms/step - loss: 0.0153 - r2_keras_custom: 0.8491 - val_loss: 0.0265 - val_r2_keras_custom: 0.6430\n",
      "Epoch 65/1000\n",
      "1/1 [==============================] - 0s 24ms/step - loss: 0.0149 - r2_keras_custom: 0.8531 - val_loss: 0.0259 - val_r2_keras_custom: 0.6511\n",
      "Epoch 66/1000\n",
      "1/1 [==============================] - 0s 23ms/step - loss: 0.0145 - r2_keras_custom: 0.8569 - val_loss: 0.0254 - val_r2_keras_custom: 0.6590\n",
      "Epoch 67/1000\n",
      "1/1 [==============================] - 0s 22ms/step - loss: 0.0142 - r2_keras_custom: 0.8606 - val_loss: 0.0248 - val_r2_keras_custom: 0.6667\n",
      "Epoch 68/1000\n",
      "1/1 [==============================] - 0s 26ms/step - loss: 0.0138 - r2_keras_custom: 0.8641 - val_loss: 0.0242 - val_r2_keras_custom: 0.6742\n",
      "Epoch 69/1000\n",
      "1/1 [==============================] - 0s 21ms/step - loss: 0.0135 - r2_keras_custom: 0.8675 - val_loss: 0.0237 - val_r2_keras_custom: 0.6815\n",
      "Epoch 70/1000\n",
      "1/1 [==============================] - 0s 21ms/step - loss: 0.0131 - r2_keras_custom: 0.8707 - val_loss: 0.0232 - val_r2_keras_custom: 0.6886\n",
      "Epoch 71/1000\n",
      "1/1 [==============================] - 0s 23ms/step - loss: 0.0128 - r2_keras_custom: 0.8738 - val_loss: 0.0226 - val_r2_keras_custom: 0.6956\n",
      "Epoch 72/1000\n",
      "1/1 [==============================] - 0s 30ms/step - loss: 0.0125 - r2_keras_custom: 0.8768 - val_loss: 0.0222 - val_r2_keras_custom: 0.7021\n",
      "Epoch 73/1000\n",
      "1/1 [==============================] - 0s 22ms/step - loss: 0.0122 - r2_keras_custom: 0.8796 - val_loss: 0.0217 - val_r2_keras_custom: 0.7085\n",
      "Epoch 74/1000\n",
      "1/1 [==============================] - 0s 22ms/step - loss: 0.0120 - r2_keras_custom: 0.8823 - val_loss: 0.0212 - val_r2_keras_custom: 0.7147\n",
      "Epoch 75/1000\n",
      "1/1 [==============================] - 0s 24ms/step - loss: 0.0117 - r2_keras_custom: 0.8849 - val_loss: 0.0208 - val_r2_keras_custom: 0.7208\n",
      "Epoch 76/1000\n",
      "1/1 [==============================] - 0s 25ms/step - loss: 0.0114 - r2_keras_custom: 0.8874 - val_loss: 0.0203 - val_r2_keras_custom: 0.7266\n",
      "Epoch 77/1000\n",
      "1/1 [==============================] - 0s 24ms/step - loss: 0.0112 - r2_keras_custom: 0.8897 - val_loss: 0.0199 - val_r2_keras_custom: 0.7322\n",
      "Epoch 78/1000\n",
      "1/1 [==============================] - 0s 24ms/step - loss: 0.0110 - r2_keras_custom: 0.8920 - val_loss: 0.0195 - val_r2_keras_custom: 0.7377\n",
      "Epoch 79/1000\n",
      "1/1 [==============================] - 0s 21ms/step - loss: 0.0107 - r2_keras_custom: 0.8942 - val_loss: 0.0191 - val_r2_keras_custom: 0.7431\n",
      "Epoch 80/1000\n",
      "1/1 [==============================] - 0s 28ms/step - loss: 0.0105 - r2_keras_custom: 0.8963 - val_loss: 0.0187 - val_r2_keras_custom: 0.7483\n",
      "Epoch 81/1000\n",
      "1/1 [==============================] - 0s 21ms/step - loss: 0.0103 - r2_keras_custom: 0.8983 - val_loss: 0.0183 - val_r2_keras_custom: 0.7534\n",
      "Epoch 82/1000\n",
      "1/1 [==============================] - 0s 24ms/step - loss: 0.0101 - r2_keras_custom: 0.9002 - val_loss: 0.0180 - val_r2_keras_custom: 0.7583\n",
      "Epoch 83/1000\n",
      "1/1 [==============================] - 0s 30ms/step - loss: 0.0099 - r2_keras_custom: 0.9020 - val_loss: 0.0176 - val_r2_keras_custom: 0.7632\n",
      "Epoch 84/1000\n",
      "1/1 [==============================] - 0s 26ms/step - loss: 0.0098 - r2_keras_custom: 0.9038 - val_loss: 0.0173 - val_r2_keras_custom: 0.7679\n",
      "Epoch 85/1000\n",
      "1/1 [==============================] - 0s 25ms/step - loss: 0.0096 - r2_keras_custom: 0.9055 - val_loss: 0.0169 - val_r2_keras_custom: 0.7724\n",
      "Epoch 86/1000\n",
      "1/1 [==============================] - 0s 24ms/step - loss: 0.0094 - r2_keras_custom: 0.9072 - val_loss: 0.0166 - val_r2_keras_custom: 0.7768\n",
      "Epoch 87/1000\n",
      "1/1 [==============================] - 0s 22ms/step - loss: 0.0093 - r2_keras_custom: 0.9087 - val_loss: 0.0163 - val_r2_keras_custom: 0.7811\n",
      "Epoch 88/1000\n",
      "1/1 [==============================] - 0s 24ms/step - loss: 0.0091 - r2_keras_custom: 0.9103 - val_loss: 0.0160 - val_r2_keras_custom: 0.7853\n",
      "Epoch 89/1000\n",
      "1/1 [==============================] - 0s 23ms/step - loss: 0.0090 - r2_keras_custom: 0.9117 - val_loss: 0.0157 - val_r2_keras_custom: 0.7893\n",
      "Epoch 90/1000\n",
      "1/1 [==============================] - 0s 21ms/step - loss: 0.0088 - r2_keras_custom: 0.9132 - val_loss: 0.0154 - val_r2_keras_custom: 0.7932\n",
      "Epoch 91/1000\n",
      "1/1 [==============================] - 0s 21ms/step - loss: 0.0087 - r2_keras_custom: 0.9145 - val_loss: 0.0151 - val_r2_keras_custom: 0.7971\n",
      "Epoch 92/1000\n",
      "1/1 [==============================] - 0s 27ms/step - loss: 0.0085 - r2_keras_custom: 0.9158 - val_loss: 0.0148 - val_r2_keras_custom: 0.8008\n",
      "Epoch 93/1000\n",
      "1/1 [==============================] - 0s 42ms/step - loss: 0.0084 - r2_keras_custom: 0.9171 - val_loss: 0.0145 - val_r2_keras_custom: 0.8044\n",
      "Epoch 94/1000\n",
      "1/1 [==============================] - 0s 25ms/step - loss: 0.0083 - r2_keras_custom: 0.9183 - val_loss: 0.0143 - val_r2_keras_custom: 0.8080\n",
      "Epoch 95/1000\n",
      "1/1 [==============================] - 0s 28ms/step - loss: 0.0082 - r2_keras_custom: 0.9195 - val_loss: 0.0140 - val_r2_keras_custom: 0.8114\n",
      "Epoch 96/1000\n",
      "1/1 [==============================] - 0s 52ms/step - loss: 0.0081 - r2_keras_custom: 0.9206 - val_loss: 0.0138 - val_r2_keras_custom: 0.8148\n",
      "Epoch 97/1000\n",
      "1/1 [==============================] - 0s 27ms/step - loss: 0.0080 - r2_keras_custom: 0.9217 - val_loss: 0.0135 - val_r2_keras_custom: 0.8180\n",
      "Epoch 98/1000\n",
      "1/1 [==============================] - 0s 22ms/step - loss: 0.0078 - r2_keras_custom: 0.9228 - val_loss: 0.0133 - val_r2_keras_custom: 0.8212\n",
      "Epoch 99/1000\n",
      "1/1 [==============================] - 0s 23ms/step - loss: 0.0077 - r2_keras_custom: 0.9238 - val_loss: 0.0131 - val_r2_keras_custom: 0.8243\n",
      "Epoch 100/1000\n",
      "1/1 [==============================] - 0s 24ms/step - loss: 0.0076 - r2_keras_custom: 0.9248 - val_loss: 0.0128 - val_r2_keras_custom: 0.8273\n",
      "Epoch 101/1000\n",
      "1/1 [==============================] - 0s 25ms/step - loss: 0.0075 - r2_keras_custom: 0.9257 - val_loss: 0.0126 - val_r2_keras_custom: 0.8302\n",
      "Epoch 102/1000\n",
      "1/1 [==============================] - 0s 26ms/step - loss: 0.0075 - r2_keras_custom: 0.9266 - val_loss: 0.0124 - val_r2_keras_custom: 0.8331\n",
      "Epoch 103/1000\n",
      "1/1 [==============================] - 0s 24ms/step - loss: 0.0074 - r2_keras_custom: 0.9275 - val_loss: 0.0122 - val_r2_keras_custom: 0.8358\n",
      "Epoch 104/1000\n",
      "1/1 [==============================] - 0s 25ms/step - loss: 0.0073 - r2_keras_custom: 0.9284 - val_loss: 0.0120 - val_r2_keras_custom: 0.8385\n",
      "Epoch 105/1000\n",
      "1/1 [==============================] - 0s 23ms/step - loss: 0.0072 - r2_keras_custom: 0.9292 - val_loss: 0.0118 - val_r2_keras_custom: 0.8412\n",
      "Epoch 106/1000\n",
      "1/1 [==============================] - 0s 24ms/step - loss: 0.0071 - r2_keras_custom: 0.9300 - val_loss: 0.0116 - val_r2_keras_custom: 0.8437\n",
      "Epoch 107/1000\n",
      "1/1 [==============================] - 0s 42ms/step - loss: 0.0070 - r2_keras_custom: 0.9307 - val_loss: 0.0114 - val_r2_keras_custom: 0.8462\n",
      "Epoch 108/1000\n",
      "1/1 [==============================] - 0s 24ms/step - loss: 0.0070 - r2_keras_custom: 0.9315 - val_loss: 0.0113 - val_r2_keras_custom: 0.8486\n",
      "Epoch 109/1000\n",
      "1/1 [==============================] - 0s 28ms/step - loss: 0.0069 - r2_keras_custom: 0.9322 - val_loss: 0.0111 - val_r2_keras_custom: 0.8510\n",
      "Epoch 110/1000\n",
      "1/1 [==============================] - 0s 29ms/step - loss: 0.0068 - r2_keras_custom: 0.9328 - val_loss: 0.0109 - val_r2_keras_custom: 0.8533\n",
      "Epoch 111/1000\n",
      "1/1 [==============================] - 0s 30ms/step - loss: 0.0068 - r2_keras_custom: 0.9335 - val_loss: 0.0107 - val_r2_keras_custom: 0.8556\n",
      "Epoch 112/1000\n",
      "1/1 [==============================] - 0s 23ms/step - loss: 0.0067 - r2_keras_custom: 0.9342 - val_loss: 0.0106 - val_r2_keras_custom: 0.8578\n",
      "Epoch 113/1000\n",
      "1/1 [==============================] - 0s 24ms/step - loss: 0.0066 - r2_keras_custom: 0.9348 - val_loss: 0.0104 - val_r2_keras_custom: 0.8599\n",
      "Epoch 114/1000\n",
      "1/1 [==============================] - 0s 21ms/step - loss: 0.0066 - r2_keras_custom: 0.9354 - val_loss: 0.0103 - val_r2_keras_custom: 0.8620\n",
      "Epoch 115/1000\n",
      "1/1 [==============================] - 0s 26ms/step - loss: 0.0065 - r2_keras_custom: 0.9360 - val_loss: 0.0101 - val_r2_keras_custom: 0.8640\n",
      "Epoch 116/1000\n",
      "1/1 [==============================] - 0s 25ms/step - loss: 0.0064 - r2_keras_custom: 0.9365 - val_loss: 0.0100 - val_r2_keras_custom: 0.8660\n",
      "Epoch 117/1000\n",
      "1/1 [==============================] - 0s 24ms/step - loss: 0.0064 - r2_keras_custom: 0.9371 - val_loss: 0.0098 - val_r2_keras_custom: 0.8679\n",
      "Epoch 118/1000\n",
      "1/1 [==============================] - 0s 26ms/step - loss: 0.0063 - r2_keras_custom: 0.9376 - val_loss: 0.0097 - val_r2_keras_custom: 0.8698\n",
      "Epoch 119/1000\n",
      "1/1 [==============================] - 0s 23ms/step - loss: 0.0063 - r2_keras_custom: 0.9382 - val_loss: 0.0095 - val_r2_keras_custom: 0.8717\n",
      "Epoch 120/1000\n",
      "1/1 [==============================] - 0s 25ms/step - loss: 0.0062 - r2_keras_custom: 0.9387 - val_loss: 0.0094 - val_r2_keras_custom: 0.8735\n",
      "Epoch 121/1000\n",
      "1/1 [==============================] - 0s 28ms/step - loss: 0.0062 - r2_keras_custom: 0.9392 - val_loss: 0.0093 - val_r2_keras_custom: 0.8752\n",
      "Epoch 122/1000\n",
      "1/1 [==============================] - 0s 26ms/step - loss: 0.0061 - r2_keras_custom: 0.9396 - val_loss: 0.0092 - val_r2_keras_custom: 0.8769\n",
      "Epoch 123/1000\n",
      "1/1 [==============================] - 0s 24ms/step - loss: 0.0061 - r2_keras_custom: 0.9401 - val_loss: 0.0090 - val_r2_keras_custom: 0.8786\n",
      "Epoch 124/1000\n",
      "1/1 [==============================] - 0s 28ms/step - loss: 0.0060 - r2_keras_custom: 0.9406 - val_loss: 0.0089 - val_r2_keras_custom: 0.8802\n",
      "Epoch 125/1000\n",
      "1/1 [==============================] - 0s 23ms/step - loss: 0.0060 - r2_keras_custom: 0.9410 - val_loss: 0.0088 - val_r2_keras_custom: 0.8818\n",
      "Epoch 126/1000\n",
      "1/1 [==============================] - 0s 23ms/step - loss: 0.0059 - r2_keras_custom: 0.9414 - val_loss: 0.0087 - val_r2_keras_custom: 0.8833\n",
      "Epoch 127/1000\n",
      "1/1 [==============================] - 0s 25ms/step - loss: 0.0059 - r2_keras_custom: 0.9419 - val_loss: 0.0086 - val_r2_keras_custom: 0.8848\n",
      "Epoch 128/1000\n",
      "1/1 [==============================] - 0s 29ms/step - loss: 0.0059 - r2_keras_custom: 0.9423 - val_loss: 0.0085 - val_r2_keras_custom: 0.8863\n",
      "Epoch 129/1000\n",
      "1/1 [==============================] - 0s 27ms/step - loss: 0.0058 - r2_keras_custom: 0.9427 - val_loss: 0.0084 - val_r2_keras_custom: 0.8877\n",
      "Epoch 130/1000\n",
      "1/1 [==============================] - 0s 24ms/step - loss: 0.0058 - r2_keras_custom: 0.9430 - val_loss: 0.0082 - val_r2_keras_custom: 0.8891\n",
      "Epoch 131/1000\n",
      "1/1 [==============================] - 0s 25ms/step - loss: 0.0057 - r2_keras_custom: 0.9434 - val_loss: 0.0081 - val_r2_keras_custom: 0.8905\n",
      "Epoch 132/1000\n",
      "1/1 [==============================] - 0s 23ms/step - loss: 0.0057 - r2_keras_custom: 0.9438 - val_loss: 0.0080 - val_r2_keras_custom: 0.8918\n",
      "Epoch 133/1000\n",
      "1/1 [==============================] - 0s 22ms/step - loss: 0.0057 - r2_keras_custom: 0.9441 - val_loss: 0.0080 - val_r2_keras_custom: 0.8931\n",
      "Epoch 134/1000\n",
      "1/1 [==============================] - 0s 34ms/step - loss: 0.0056 - r2_keras_custom: 0.9445 - val_loss: 0.0079 - val_r2_keras_custom: 0.8944\n",
      "Epoch 135/1000\n",
      "1/1 [==============================] - 0s 26ms/step - loss: 0.0056 - r2_keras_custom: 0.9448 - val_loss: 0.0078 - val_r2_keras_custom: 0.8956\n",
      "Epoch 136/1000\n",
      "1/1 [==============================] - 0s 33ms/step - loss: 0.0056 - r2_keras_custom: 0.9451 - val_loss: 0.0077 - val_r2_keras_custom: 0.8968\n",
      "Epoch 137/1000\n",
      "1/1 [==============================] - 0s 23ms/step - loss: 0.0055 - r2_keras_custom: 0.9455 - val_loss: 0.0076 - val_r2_keras_custom: 0.8980\n",
      "Epoch 138/1000\n",
      "1/1 [==============================] - 0s 22ms/step - loss: 0.0055 - r2_keras_custom: 0.9458 - val_loss: 0.0075 - val_r2_keras_custom: 0.8991\n",
      "Epoch 139/1000\n",
      "1/1 [==============================] - 0s 31ms/step - loss: 0.0055 - r2_keras_custom: 0.9461 - val_loss: 0.0074 - val_r2_keras_custom: 0.9002\n",
      "Epoch 140/1000\n",
      "1/1 [==============================] - 0s 23ms/step - loss: 0.0054 - r2_keras_custom: 0.9464 - val_loss: 0.0073 - val_r2_keras_custom: 0.9013\n",
      "Epoch 141/1000\n",
      "1/1 [==============================] - 0s 28ms/step - loss: 0.0054 - r2_keras_custom: 0.9467 - val_loss: 0.0073 - val_r2_keras_custom: 0.9024\n",
      "Epoch 142/1000\n",
      "1/1 [==============================] - 0s 26ms/step - loss: 0.0054 - r2_keras_custom: 0.9470 - val_loss: 0.0072 - val_r2_keras_custom: 0.9034\n",
      "Epoch 143/1000\n",
      "1/1 [==============================] - 0s 22ms/step - loss: 0.0054 - r2_keras_custom: 0.9472 - val_loss: 0.0071 - val_r2_keras_custom: 0.9045\n",
      "Epoch 144/1000\n",
      "1/1 [==============================] - 0s 24ms/step - loss: 0.0053 - r2_keras_custom: 0.9475 - val_loss: 0.0070 - val_r2_keras_custom: 0.9054\n",
      "Epoch 145/1000\n",
      "1/1 [==============================] - 0s 23ms/step - loss: 0.0053 - r2_keras_custom: 0.9478 - val_loss: 0.0070 - val_r2_keras_custom: 0.9064\n",
      "Epoch 146/1000\n",
      "1/1 [==============================] - 0s 26ms/step - loss: 0.0053 - r2_keras_custom: 0.9480 - val_loss: 0.0069 - val_r2_keras_custom: 0.9074\n",
      "Epoch 147/1000\n",
      "1/1 [==============================] - 0s 21ms/step - loss: 0.0053 - r2_keras_custom: 0.9483 - val_loss: 0.0068 - val_r2_keras_custom: 0.9083\n",
      "Epoch 148/1000\n",
      "1/1 [==============================] - 0s 27ms/step - loss: 0.0052 - r2_keras_custom: 0.9485 - val_loss: 0.0068 - val_r2_keras_custom: 0.9092\n",
      "Epoch 149/1000\n",
      "1/1 [==============================] - 0s 24ms/step - loss: 0.0052 - r2_keras_custom: 0.9488 - val_loss: 0.0067 - val_r2_keras_custom: 0.9101\n",
      "Epoch 150/1000\n",
      "1/1 [==============================] - 0s 23ms/step - loss: 0.0052 - r2_keras_custom: 0.9490 - val_loss: 0.0066 - val_r2_keras_custom: 0.9110\n",
      "Epoch 151/1000\n",
      "1/1 [==============================] - 0s 28ms/step - loss: 0.0052 - r2_keras_custom: 0.9493 - val_loss: 0.0066 - val_r2_keras_custom: 0.9119\n",
      "Epoch 152/1000\n",
      "1/1 [==============================] - 0s 21ms/step - loss: 0.0051 - r2_keras_custom: 0.9495 - val_loss: 0.0065 - val_r2_keras_custom: 0.9127\n",
      "Epoch 153/1000\n",
      "1/1 [==============================] - 0s 23ms/step - loss: 0.0051 - r2_keras_custom: 0.9497 - val_loss: 0.0064 - val_r2_keras_custom: 0.9135\n",
      "Epoch 154/1000\n",
      "1/1 [==============================] - 0s 26ms/step - loss: 0.0051 - r2_keras_custom: 0.9499 - val_loss: 0.0064 - val_r2_keras_custom: 0.9143\n",
      "Epoch 155/1000\n",
      "1/1 [==============================] - 0s 21ms/step - loss: 0.0051 - r2_keras_custom: 0.9502 - val_loss: 0.0063 - val_r2_keras_custom: 0.9151\n",
      "Epoch 156/1000\n",
      "1/1 [==============================] - 0s 25ms/step - loss: 0.0050 - r2_keras_custom: 0.9504 - val_loss: 0.0063 - val_r2_keras_custom: 0.9158\n",
      "Epoch 157/1000\n",
      "1/1 [==============================] - 0s 25ms/step - loss: 0.0050 - r2_keras_custom: 0.9506 - val_loss: 0.0062 - val_r2_keras_custom: 0.9166\n",
      "Epoch 158/1000\n",
      "1/1 [==============================] - 0s 25ms/step - loss: 0.0050 - r2_keras_custom: 0.9508 - val_loss: 0.0062 - val_r2_keras_custom: 0.9173\n",
      "Epoch 159/1000\n",
      "1/1 [==============================] - 0s 28ms/step - loss: 0.0050 - r2_keras_custom: 0.9510 - val_loss: 0.0061 - val_r2_keras_custom: 0.9180\n",
      "Epoch 160/1000\n",
      "1/1 [==============================] - 0s 22ms/step - loss: 0.0050 - r2_keras_custom: 0.9512 - val_loss: 0.0060 - val_r2_keras_custom: 0.9187\n",
      "Epoch 161/1000\n",
      "1/1 [==============================] - 0s 24ms/step - loss: 0.0049 - r2_keras_custom: 0.9514 - val_loss: 0.0060 - val_r2_keras_custom: 0.9194\n",
      "Epoch 162/1000\n",
      "1/1 [==============================] - 0s 24ms/step - loss: 0.0049 - r2_keras_custom: 0.9515 - val_loss: 0.0059 - val_r2_keras_custom: 0.9201\n",
      "Epoch 163/1000\n",
      "1/1 [==============================] - 0s 25ms/step - loss: 0.0049 - r2_keras_custom: 0.9517 - val_loss: 0.0059 - val_r2_keras_custom: 0.9207\n",
      "Epoch 164/1000\n",
      "1/1 [==============================] - 0s 25ms/step - loss: 0.0049 - r2_keras_custom: 0.9519 - val_loss: 0.0058 - val_r2_keras_custom: 0.9214\n",
      "Epoch 165/1000\n",
      "1/1 [==============================] - 0s 23ms/step - loss: 0.0049 - r2_keras_custom: 0.9521 - val_loss: 0.0058 - val_r2_keras_custom: 0.9220\n",
      "Epoch 166/1000\n",
      "1/1 [==============================] - 0s 22ms/step - loss: 0.0048 - r2_keras_custom: 0.9523 - val_loss: 0.0058 - val_r2_keras_custom: 0.9226\n",
      "Epoch 167/1000\n",
      "1/1 [==============================] - 0s 24ms/step - loss: 0.0048 - r2_keras_custom: 0.9524 - val_loss: 0.0057 - val_r2_keras_custom: 0.9233\n",
      "Epoch 168/1000\n",
      "1/1 [==============================] - 0s 24ms/step - loss: 0.0048 - r2_keras_custom: 0.9526 - val_loss: 0.0057 - val_r2_keras_custom: 0.9239\n",
      "Epoch 169/1000\n",
      "1/1 [==============================] - 0s 22ms/step - loss: 0.0048 - r2_keras_custom: 0.9527 - val_loss: 0.0056 - val_r2_keras_custom: 0.9244\n",
      "Epoch 170/1000\n",
      "1/1 [==============================] - 0s 27ms/step - loss: 0.0048 - r2_keras_custom: 0.9529 - val_loss: 0.0056 - val_r2_keras_custom: 0.9250\n",
      "Epoch 171/1000\n",
      "1/1 [==============================] - 0s 22ms/step - loss: 0.0048 - r2_keras_custom: 0.9531 - val_loss: 0.0055 - val_r2_keras_custom: 0.9255\n",
      "Epoch 172/1000\n",
      "1/1 [==============================] - 0s 22ms/step - loss: 0.0048 - r2_keras_custom: 0.9532 - val_loss: 0.0055 - val_r2_keras_custom: 0.9261\n",
      "Epoch 173/1000\n",
      "1/1 [==============================] - 0s 52ms/step - loss: 0.0047 - r2_keras_custom: 0.9533 - val_loss: 0.0055 - val_r2_keras_custom: 0.9266\n",
      "Epoch 174/1000\n",
      "1/1 [==============================] - 0s 26ms/step - loss: 0.0047 - r2_keras_custom: 0.9535 - val_loss: 0.0054 - val_r2_keras_custom: 0.9271\n",
      "Epoch 175/1000\n",
      "1/1 [==============================] - 0s 23ms/step - loss: 0.0047 - r2_keras_custom: 0.9536 - val_loss: 0.0054 - val_r2_keras_custom: 0.9277\n",
      "Epoch 176/1000\n",
      "1/1 [==============================] - 0s 27ms/step - loss: 0.0047 - r2_keras_custom: 0.9538 - val_loss: 0.0053 - val_r2_keras_custom: 0.9281\n",
      "Epoch 177/1000\n",
      "1/1 [==============================] - 0s 22ms/step - loss: 0.0047 - r2_keras_custom: 0.9539 - val_loss: 0.0053 - val_r2_keras_custom: 0.9286\n",
      "Epoch 178/1000\n",
      "1/1 [==============================] - 0s 22ms/step - loss: 0.0047 - r2_keras_custom: 0.9540 - val_loss: 0.0053 - val_r2_keras_custom: 0.9291\n",
      "Epoch 179/1000\n",
      "1/1 [==============================] - 0s 27ms/step - loss: 0.0047 - r2_keras_custom: 0.9542 - val_loss: 0.0052 - val_r2_keras_custom: 0.9296\n",
      "Epoch 180/1000\n",
      "1/1 [==============================] - 0s 27ms/step - loss: 0.0046 - r2_keras_custom: 0.9543 - val_loss: 0.0052 - val_r2_keras_custom: 0.9301\n",
      "Epoch 181/1000\n",
      "1/1 [==============================] - 0s 26ms/step - loss: 0.0046 - r2_keras_custom: 0.9544 - val_loss: 0.0052 - val_r2_keras_custom: 0.9305\n",
      "Epoch 182/1000\n",
      "1/1 [==============================] - 0s 25ms/step - loss: 0.0046 - r2_keras_custom: 0.9546 - val_loss: 0.0051 - val_r2_keras_custom: 0.9310\n",
      "Epoch 183/1000\n",
      "1/1 [==============================] - 0s 23ms/step - loss: 0.0046 - r2_keras_custom: 0.9547 - val_loss: 0.0051 - val_r2_keras_custom: 0.9314\n",
      "Epoch 184/1000\n",
      "1/1 [==============================] - 0s 23ms/step - loss: 0.0046 - r2_keras_custom: 0.9548 - val_loss: 0.0051 - val_r2_keras_custom: 0.9319\n",
      "Epoch 185/1000\n",
      "1/1 [==============================] - 0s 23ms/step - loss: 0.0046 - r2_keras_custom: 0.9549 - val_loss: 0.0050 - val_r2_keras_custom: 0.9323\n",
      "Epoch 186/1000\n",
      "1/1 [==============================] - 0s 32ms/step - loss: 0.0046 - r2_keras_custom: 0.9551 - val_loss: 0.0050 - val_r2_keras_custom: 0.9327\n",
      "Epoch 187/1000\n",
      "1/1 [==============================] - 0s 25ms/step - loss: 0.0046 - r2_keras_custom: 0.9552 - val_loss: 0.0050 - val_r2_keras_custom: 0.9332\n",
      "Epoch 188/1000\n",
      "1/1 [==============================] - 0s 27ms/step - loss: 0.0045 - r2_keras_custom: 0.9553 - val_loss: 0.0049 - val_r2_keras_custom: 0.9336\n",
      "Epoch 189/1000\n",
      "1/1 [==============================] - 0s 25ms/step - loss: 0.0045 - r2_keras_custom: 0.9554 - val_loss: 0.0049 - val_r2_keras_custom: 0.9340\n",
      "Epoch 190/1000\n",
      "1/1 [==============================] - 0s 30ms/step - loss: 0.0045 - r2_keras_custom: 0.9555 - val_loss: 0.0049 - val_r2_keras_custom: 0.9344\n",
      "Epoch 191/1000\n",
      "1/1 [==============================] - 0s 33ms/step - loss: 0.0045 - r2_keras_custom: 0.9557 - val_loss: 0.0049 - val_r2_keras_custom: 0.9348\n",
      "Epoch 192/1000\n",
      "1/1 [==============================] - 0s 24ms/step - loss: 0.0045 - r2_keras_custom: 0.9558 - val_loss: 0.0048 - val_r2_keras_custom: 0.9352\n",
      "Epoch 193/1000\n",
      "1/1 [==============================] - 0s 24ms/step - loss: 0.0045 - r2_keras_custom: 0.9559 - val_loss: 0.0048 - val_r2_keras_custom: 0.9356\n",
      "Epoch 194/1000\n",
      "1/1 [==============================] - 0s 24ms/step - loss: 0.0045 - r2_keras_custom: 0.9560 - val_loss: 0.0048 - val_r2_keras_custom: 0.9359\n",
      "Epoch 195/1000\n",
      "1/1 [==============================] - 0s 23ms/step - loss: 0.0045 - r2_keras_custom: 0.9561 - val_loss: 0.0047 - val_r2_keras_custom: 0.9363\n",
      "Epoch 196/1000\n",
      "1/1 [==============================] - 0s 23ms/step - loss: 0.0044 - r2_keras_custom: 0.9562 - val_loss: 0.0047 - val_r2_keras_custom: 0.9367\n",
      "Epoch 197/1000\n",
      "1/1 [==============================] - 0s 30ms/step - loss: 0.0044 - r2_keras_custom: 0.9563 - val_loss: 0.0047 - val_r2_keras_custom: 0.9371\n",
      "Epoch 198/1000\n",
      "1/1 [==============================] - 0s 23ms/step - loss: 0.0044 - r2_keras_custom: 0.9564 - val_loss: 0.0047 - val_r2_keras_custom: 0.9374\n",
      "Epoch 199/1000\n",
      "1/1 [==============================] - 0s 32ms/step - loss: 0.0044 - r2_keras_custom: 0.9565 - val_loss: 0.0046 - val_r2_keras_custom: 0.9378\n",
      "Epoch 200/1000\n",
      "1/1 [==============================] - 0s 24ms/step - loss: 0.0044 - r2_keras_custom: 0.9566 - val_loss: 0.0046 - val_r2_keras_custom: 0.9381\n",
      "Epoch 201/1000\n",
      "1/1 [==============================] - 0s 30ms/step - loss: 0.0044 - r2_keras_custom: 0.9567 - val_loss: 0.0046 - val_r2_keras_custom: 0.9385\n",
      "Epoch 202/1000\n",
      "1/1 [==============================] - 0s 23ms/step - loss: 0.0044 - r2_keras_custom: 0.9568 - val_loss: 0.0046 - val_r2_keras_custom: 0.9388\n",
      "Epoch 203/1000\n",
      "1/1 [==============================] - 0s 32ms/step - loss: 0.0044 - r2_keras_custom: 0.9569 - val_loss: 0.0045 - val_r2_keras_custom: 0.9391\n",
      "Epoch 204/1000\n",
      "1/1 [==============================] - 0s 23ms/step - loss: 0.0044 - r2_keras_custom: 0.9570 - val_loss: 0.0045 - val_r2_keras_custom: 0.9395\n",
      "Epoch 205/1000\n",
      "1/1 [==============================] - 0s 23ms/step - loss: 0.0044 - r2_keras_custom: 0.9571 - val_loss: 0.0045 - val_r2_keras_custom: 0.9398\n",
      "Epoch 206/1000\n",
      "1/1 [==============================] - 0s 31ms/step - loss: 0.0043 - r2_keras_custom: 0.9572 - val_loss: 0.0045 - val_r2_keras_custom: 0.9401\n",
      "Epoch 207/1000\n",
      "1/1 [==============================] - 0s 26ms/step - loss: 0.0043 - r2_keras_custom: 0.9573 - val_loss: 0.0044 - val_r2_keras_custom: 0.9404\n",
      "Epoch 208/1000\n",
      "1/1 [==============================] - 0s 26ms/step - loss: 0.0043 - r2_keras_custom: 0.9574 - val_loss: 0.0044 - val_r2_keras_custom: 0.9408\n",
      "Epoch 209/1000\n",
      "1/1 [==============================] - 0s 23ms/step - loss: 0.0043 - r2_keras_custom: 0.9575 - val_loss: 0.0044 - val_r2_keras_custom: 0.9411\n",
      "Epoch 210/1000\n",
      "1/1 [==============================] - 0s 23ms/step - loss: 0.0043 - r2_keras_custom: 0.9576 - val_loss: 0.0044 - val_r2_keras_custom: 0.9414\n",
      "Epoch 211/1000\n",
      "1/1 [==============================] - 0s 27ms/step - loss: 0.0043 - r2_keras_custom: 0.9577 - val_loss: 0.0043 - val_r2_keras_custom: 0.9417\n",
      "Epoch 212/1000\n",
      "1/1 [==============================] - 0s 34ms/step - loss: 0.0043 - r2_keras_custom: 0.9578 - val_loss: 0.0043 - val_r2_keras_custom: 0.9420\n",
      "Epoch 213/1000\n",
      "1/1 [==============================] - 0s 28ms/step - loss: 0.0043 - r2_keras_custom: 0.9579 - val_loss: 0.0043 - val_r2_keras_custom: 0.9423\n",
      "Epoch 214/1000\n",
      "1/1 [==============================] - 0s 27ms/step - loss: 0.0043 - r2_keras_custom: 0.9580 - val_loss: 0.0043 - val_r2_keras_custom: 0.9426\n",
      "Epoch 215/1000\n",
      "1/1 [==============================] - 0s 25ms/step - loss: 0.0043 - r2_keras_custom: 0.9581 - val_loss: 0.0043 - val_r2_keras_custom: 0.9428\n",
      "Epoch 216/1000\n",
      "1/1 [==============================] - 0s 24ms/step - loss: 0.0042 - r2_keras_custom: 0.9582 - val_loss: 0.0042 - val_r2_keras_custom: 0.9431\n",
      "Epoch 217/1000\n",
      "1/1 [==============================] - 0s 23ms/step - loss: 0.0042 - r2_keras_custom: 0.9583 - val_loss: 0.0042 - val_r2_keras_custom: 0.9434\n",
      "Epoch 218/1000\n",
      "1/1 [==============================] - 0s 34ms/step - loss: 0.0042 - r2_keras_custom: 0.9583 - val_loss: 0.0042 - val_r2_keras_custom: 0.9437\n",
      "Epoch 219/1000\n",
      "1/1 [==============================] - 0s 26ms/step - loss: 0.0042 - r2_keras_custom: 0.9584 - val_loss: 0.0042 - val_r2_keras_custom: 0.9439\n",
      "Epoch 220/1000\n",
      "1/1 [==============================] - 0s 24ms/step - loss: 0.0042 - r2_keras_custom: 0.9585 - val_loss: 0.0042 - val_r2_keras_custom: 0.9442\n",
      "Epoch 221/1000\n",
      "1/1 [==============================] - 0s 31ms/step - loss: 0.0042 - r2_keras_custom: 0.9586 - val_loss: 0.0041 - val_r2_keras_custom: 0.9444\n",
      "Epoch 222/1000\n",
      "1/1 [==============================] - 0s 27ms/step - loss: 0.0042 - r2_keras_custom: 0.9587 - val_loss: 0.0041 - val_r2_keras_custom: 0.9447\n",
      "Epoch 223/1000\n",
      "1/1 [==============================] - 0s 33ms/step - loss: 0.0042 - r2_keras_custom: 0.9587 - val_loss: 0.0041 - val_r2_keras_custom: 0.9449\n",
      "Epoch 224/1000\n",
      "1/1 [==============================] - 0s 28ms/step - loss: 0.0042 - r2_keras_custom: 0.9588 - val_loss: 0.0041 - val_r2_keras_custom: 0.9452\n",
      "Epoch 225/1000\n",
      "1/1 [==============================] - 0s 23ms/step - loss: 0.0042 - r2_keras_custom: 0.9589 - val_loss: 0.0041 - val_r2_keras_custom: 0.9454\n",
      "Epoch 226/1000\n",
      "1/1 [==============================] - 0s 27ms/step - loss: 0.0042 - r2_keras_custom: 0.9590 - val_loss: 0.0040 - val_r2_keras_custom: 0.9457\n",
      "Epoch 227/1000\n",
      "1/1 [==============================] - 0s 24ms/step - loss: 0.0042 - r2_keras_custom: 0.9591 - val_loss: 0.0040 - val_r2_keras_custom: 0.9459\n",
      "Epoch 228/1000\n",
      "1/1 [==============================] - 0s 23ms/step - loss: 0.0042 - r2_keras_custom: 0.9591 - val_loss: 0.0040 - val_r2_keras_custom: 0.9461\n",
      "Epoch 229/1000\n",
      "1/1 [==============================] - 0s 25ms/step - loss: 0.0041 - r2_keras_custom: 0.9592 - val_loss: 0.0040 - val_r2_keras_custom: 0.9464\n",
      "Epoch 230/1000\n",
      "1/1 [==============================] - 0s 27ms/step - loss: 0.0041 - r2_keras_custom: 0.9593 - val_loss: 0.0040 - val_r2_keras_custom: 0.9466\n",
      "Epoch 231/1000\n",
      "1/1 [==============================] - 0s 23ms/step - loss: 0.0041 - r2_keras_custom: 0.9593 - val_loss: 0.0040 - val_r2_keras_custom: 0.9468\n",
      "Epoch 232/1000\n",
      "1/1 [==============================] - 0s 26ms/step - loss: 0.0041 - r2_keras_custom: 0.9594 - val_loss: 0.0039 - val_r2_keras_custom: 0.9470\n",
      "Epoch 233/1000\n",
      "1/1 [==============================] - 0s 30ms/step - loss: 0.0041 - r2_keras_custom: 0.9595 - val_loss: 0.0039 - val_r2_keras_custom: 0.9473\n",
      "Epoch 234/1000\n",
      "1/1 [==============================] - 0s 25ms/step - loss: 0.0041 - r2_keras_custom: 0.9595 - val_loss: 0.0039 - val_r2_keras_custom: 0.9475\n",
      "Epoch 235/1000\n",
      "1/1 [==============================] - 0s 24ms/step - loss: 0.0041 - r2_keras_custom: 0.9596 - val_loss: 0.0039 - val_r2_keras_custom: 0.9477\n",
      "Epoch 236/1000\n",
      "1/1 [==============================] - 0s 23ms/step - loss: 0.0041 - r2_keras_custom: 0.9597 - val_loss: 0.0039 - val_r2_keras_custom: 0.9479\n",
      "Epoch 237/1000\n",
      "1/1 [==============================] - 0s 23ms/step - loss: 0.0041 - r2_keras_custom: 0.9597 - val_loss: 0.0039 - val_r2_keras_custom: 0.9481\n",
      "Epoch 238/1000\n",
      "1/1 [==============================] - 0s 24ms/step - loss: 0.0041 - r2_keras_custom: 0.9598 - val_loss: 0.0038 - val_r2_keras_custom: 0.9483\n",
      "Epoch 239/1000\n",
      "1/1 [==============================] - 0s 30ms/step - loss: 0.0041 - r2_keras_custom: 0.9599 - val_loss: 0.0038 - val_r2_keras_custom: 0.9485\n",
      "Epoch 240/1000\n",
      "1/1 [==============================] - 0s 23ms/step - loss: 0.0041 - r2_keras_custom: 0.9599 - val_loss: 0.0038 - val_r2_keras_custom: 0.9487\n",
      "Epoch 241/1000\n",
      "1/1 [==============================] - 0s 28ms/step - loss: 0.0041 - r2_keras_custom: 0.9600 - val_loss: 0.0038 - val_r2_keras_custom: 0.9489\n",
      "Epoch 242/1000\n",
      "1/1 [==============================] - 0s 32ms/step - loss: 0.0041 - r2_keras_custom: 0.9600 - val_loss: 0.0038 - val_r2_keras_custom: 0.9491\n",
      "Epoch 243/1000\n",
      "1/1 [==============================] - 0s 25ms/step - loss: 0.0041 - r2_keras_custom: 0.9601 - val_loss: 0.0038 - val_r2_keras_custom: 0.9493\n",
      "Epoch 244/1000\n",
      "1/1 [==============================] - 0s 33ms/step - loss: 0.0040 - r2_keras_custom: 0.9602 - val_loss: 0.0038 - val_r2_keras_custom: 0.9495\n",
      "Epoch 245/1000\n",
      "1/1 [==============================] - 0s 26ms/step - loss: 0.0040 - r2_keras_custom: 0.9602 - val_loss: 0.0037 - val_r2_keras_custom: 0.9497\n",
      "Epoch 246/1000\n",
      "1/1 [==============================] - 0s 25ms/step - loss: 0.0040 - r2_keras_custom: 0.9603 - val_loss: 0.0037 - val_r2_keras_custom: 0.9498\n",
      "Epoch 247/1000\n",
      "1/1 [==============================] - 0s 23ms/step - loss: 0.0040 - r2_keras_custom: 0.9603 - val_loss: 0.0037 - val_r2_keras_custom: 0.9500\n",
      "Epoch 248/1000\n",
      "1/1 [==============================] - 0s 24ms/step - loss: 0.0040 - r2_keras_custom: 0.9604 - val_loss: 0.0037 - val_r2_keras_custom: 0.9502\n",
      "Epoch 249/1000\n",
      "1/1 [==============================] - 0s 26ms/step - loss: 0.0040 - r2_keras_custom: 0.9605 - val_loss: 0.0037 - val_r2_keras_custom: 0.9504\n",
      "Epoch 250/1000\n",
      "1/1 [==============================] - 0s 24ms/step - loss: 0.0040 - r2_keras_custom: 0.9605 - val_loss: 0.0037 - val_r2_keras_custom: 0.9506\n",
      "Epoch 251/1000\n",
      "1/1 [==============================] - 0s 23ms/step - loss: 0.0040 - r2_keras_custom: 0.9606 - val_loss: 0.0037 - val_r2_keras_custom: 0.9507\n",
      "Epoch 252/1000\n",
      "1/1 [==============================] - 0s 25ms/step - loss: 0.0040 - r2_keras_custom: 0.9606 - val_loss: 0.0037 - val_r2_keras_custom: 0.9509\n",
      "Epoch 253/1000\n",
      "1/1 [==============================] - 0s 25ms/step - loss: 0.0040 - r2_keras_custom: 0.9607 - val_loss: 0.0036 - val_r2_keras_custom: 0.9511\n",
      "Epoch 254/1000\n",
      "1/1 [==============================] - 0s 23ms/step - loss: 0.0040 - r2_keras_custom: 0.9607 - val_loss: 0.0036 - val_r2_keras_custom: 0.9513\n",
      "Epoch 255/1000\n",
      "1/1 [==============================] - 0s 29ms/step - loss: 0.0040 - r2_keras_custom: 0.9608 - val_loss: 0.0036 - val_r2_keras_custom: 0.9514\n",
      "Epoch 256/1000\n",
      "1/1 [==============================] - 0s 26ms/step - loss: 0.0040 - r2_keras_custom: 0.9608 - val_loss: 0.0036 - val_r2_keras_custom: 0.9516\n",
      "Epoch 257/1000\n",
      "1/1 [==============================] - 0s 23ms/step - loss: 0.0040 - r2_keras_custom: 0.9609 - val_loss: 0.0036 - val_r2_keras_custom: 0.9518\n",
      "Epoch 258/1000\n",
      "1/1 [==============================] - 0s 25ms/step - loss: 0.0040 - r2_keras_custom: 0.9609 - val_loss: 0.0036 - val_r2_keras_custom: 0.9519\n",
      "Epoch 259/1000\n",
      "1/1 [==============================] - 0s 31ms/step - loss: 0.0040 - r2_keras_custom: 0.9610 - val_loss: 0.0036 - val_r2_keras_custom: 0.9521\n",
      "Epoch 260/1000\n",
      "1/1 [==============================] - 0s 23ms/step - loss: 0.0040 - r2_keras_custom: 0.9610 - val_loss: 0.0036 - val_r2_keras_custom: 0.9523\n",
      "Epoch 261/1000\n",
      "1/1 [==============================] - 0s 26ms/step - loss: 0.0040 - r2_keras_custom: 0.9611 - val_loss: 0.0035 - val_r2_keras_custom: 0.9524\n",
      "Epoch 262/1000\n",
      "1/1 [==============================] - 0s 29ms/step - loss: 0.0039 - r2_keras_custom: 0.9611 - val_loss: 0.0035 - val_r2_keras_custom: 0.9526\n",
      "Epoch 263/1000\n",
      "1/1 [==============================] - 0s 26ms/step - loss: 0.0039 - r2_keras_custom: 0.9612 - val_loss: 0.0035 - val_r2_keras_custom: 0.9527\n",
      "Epoch 264/1000\n",
      "1/1 [==============================] - 0s 25ms/step - loss: 0.0039 - r2_keras_custom: 0.9612 - val_loss: 0.0035 - val_r2_keras_custom: 0.9529\n",
      "Epoch 265/1000\n",
      "1/1 [==============================] - 0s 28ms/step - loss: 0.0039 - r2_keras_custom: 0.9613 - val_loss: 0.0035 - val_r2_keras_custom: 0.9530\n",
      "Epoch 266/1000\n",
      "1/1 [==============================] - 0s 37ms/step - loss: 0.0039 - r2_keras_custom: 0.9613 - val_loss: 0.0035 - val_r2_keras_custom: 0.9532\n",
      "Epoch 267/1000\n",
      "1/1 [==============================] - 0s 24ms/step - loss: 0.0039 - r2_keras_custom: 0.9614 - val_loss: 0.0035 - val_r2_keras_custom: 0.9533\n",
      "Epoch 268/1000\n",
      "1/1 [==============================] - 0s 32ms/step - loss: 0.0039 - r2_keras_custom: 0.9614 - val_loss: 0.0035 - val_r2_keras_custom: 0.9535\n",
      "Epoch 269/1000\n",
      "1/1 [==============================] - 0s 23ms/step - loss: 0.0039 - r2_keras_custom: 0.9615 - val_loss: 0.0034 - val_r2_keras_custom: 0.9536\n",
      "Epoch 270/1000\n",
      "1/1 [==============================] - 0s 24ms/step - loss: 0.0039 - r2_keras_custom: 0.9615 - val_loss: 0.0034 - val_r2_keras_custom: 0.9538\n",
      "Epoch 271/1000\n",
      "1/1 [==============================] - 0s 28ms/step - loss: 0.0039 - r2_keras_custom: 0.9616 - val_loss: 0.0034 - val_r2_keras_custom: 0.9539\n",
      "Epoch 272/1000\n",
      "1/1 [==============================] - 0s 26ms/step - loss: 0.0039 - r2_keras_custom: 0.9616 - val_loss: 0.0034 - val_r2_keras_custom: 0.9541\n",
      "Epoch 273/1000\n",
      "1/1 [==============================] - 0s 26ms/step - loss: 0.0039 - r2_keras_custom: 0.9617 - val_loss: 0.0034 - val_r2_keras_custom: 0.9542\n",
      "Epoch 274/1000\n",
      "1/1 [==============================] - 0s 25ms/step - loss: 0.0039 - r2_keras_custom: 0.9617 - val_loss: 0.0034 - val_r2_keras_custom: 0.9543\n",
      "Epoch 275/1000\n",
      "1/1 [==============================] - 0s 25ms/step - loss: 0.0039 - r2_keras_custom: 0.9618 - val_loss: 0.0034 - val_r2_keras_custom: 0.9545\n",
      "Epoch 276/1000\n",
      "1/1 [==============================] - 0s 34ms/step - loss: 0.0039 - r2_keras_custom: 0.9618 - val_loss: 0.0034 - val_r2_keras_custom: 0.9546\n",
      "Epoch 277/1000\n",
      "1/1 [==============================] - 0s 22ms/step - loss: 0.0039 - r2_keras_custom: 0.9619 - val_loss: 0.0034 - val_r2_keras_custom: 0.9548\n",
      "Epoch 278/1000\n",
      "1/1 [==============================] - 0s 23ms/step - loss: 0.0039 - r2_keras_custom: 0.9619 - val_loss: 0.0034 - val_r2_keras_custom: 0.9549\n",
      "Epoch 279/1000\n",
      "1/1 [==============================] - 0s 32ms/step - loss: 0.0039 - r2_keras_custom: 0.9620 - val_loss: 0.0033 - val_r2_keras_custom: 0.9550\n",
      "Epoch 280/1000\n",
      "1/1 [==============================] - 0s 49ms/step - loss: 0.0039 - r2_keras_custom: 0.9620 - val_loss: 0.0033 - val_r2_keras_custom: 0.9552\n",
      "Epoch 281/1000\n",
      "1/1 [==============================] - 0s 25ms/step - loss: 0.0039 - r2_keras_custom: 0.9620 - val_loss: 0.0033 - val_r2_keras_custom: 0.9553\n",
      "Epoch 282/1000\n",
      "1/1 [==============================] - 0s 25ms/step - loss: 0.0039 - r2_keras_custom: 0.9621 - val_loss: 0.0033 - val_r2_keras_custom: 0.9554\n",
      "Epoch 283/1000\n",
      "1/1 [==============================] - 0s 32ms/step - loss: 0.0038 - r2_keras_custom: 0.9621 - val_loss: 0.0033 - val_r2_keras_custom: 0.9556\n",
      "Epoch 284/1000\n",
      "1/1 [==============================] - 0s 26ms/step - loss: 0.0038 - r2_keras_custom: 0.9622 - val_loss: 0.0033 - val_r2_keras_custom: 0.9557\n",
      "Epoch 285/1000\n",
      "1/1 [==============================] - 0s 27ms/step - loss: 0.0038 - r2_keras_custom: 0.9622 - val_loss: 0.0033 - val_r2_keras_custom: 0.9558\n",
      "Epoch 286/1000\n",
      "1/1 [==============================] - 0s 26ms/step - loss: 0.0038 - r2_keras_custom: 0.9622 - val_loss: 0.0033 - val_r2_keras_custom: 0.9559\n",
      "Epoch 287/1000\n",
      "1/1 [==============================] - 0s 28ms/step - loss: 0.0038 - r2_keras_custom: 0.9623 - val_loss: 0.0033 - val_r2_keras_custom: 0.9560\n",
      "Epoch 288/1000\n",
      "1/1 [==============================] - 0s 29ms/step - loss: 0.0038 - r2_keras_custom: 0.9623 - val_loss: 0.0033 - val_r2_keras_custom: 0.9562\n",
      "Epoch 289/1000\n",
      "1/1 [==============================] - 0s 35ms/step - loss: 0.0038 - r2_keras_custom: 0.9624 - val_loss: 0.0033 - val_r2_keras_custom: 0.9563\n",
      "Epoch 290/1000\n",
      "1/1 [==============================] - 0s 23ms/step - loss: 0.0038 - r2_keras_custom: 0.9624 - val_loss: 0.0032 - val_r2_keras_custom: 0.9564\n",
      "Epoch 291/1000\n",
      "1/1 [==============================] - 0s 33ms/step - loss: 0.0038 - r2_keras_custom: 0.9624 - val_loss: 0.0032 - val_r2_keras_custom: 0.9565\n",
      "Epoch 292/1000\n",
      "1/1 [==============================] - 0s 23ms/step - loss: 0.0038 - r2_keras_custom: 0.9625 - val_loss: 0.0032 - val_r2_keras_custom: 0.9566\n",
      "Epoch 293/1000\n",
      "1/1 [==============================] - 0s 24ms/step - loss: 0.0038 - r2_keras_custom: 0.9625 - val_loss: 0.0032 - val_r2_keras_custom: 0.9568\n",
      "Epoch 294/1000\n",
      "1/1 [==============================] - 0s 25ms/step - loss: 0.0038 - r2_keras_custom: 0.9626 - val_loss: 0.0032 - val_r2_keras_custom: 0.9569\n",
      "Epoch 295/1000\n",
      "1/1 [==============================] - 0s 30ms/step - loss: 0.0038 - r2_keras_custom: 0.9626 - val_loss: 0.0032 - val_r2_keras_custom: 0.9570\n",
      "Epoch 296/1000\n",
      "1/1 [==============================] - 0s 24ms/step - loss: 0.0038 - r2_keras_custom: 0.9626 - val_loss: 0.0032 - val_r2_keras_custom: 0.9571\n",
      "Epoch 297/1000\n",
      "1/1 [==============================] - 0s 26ms/step - loss: 0.0038 - r2_keras_custom: 0.9627 - val_loss: 0.0032 - val_r2_keras_custom: 0.9572\n",
      "Epoch 298/1000\n",
      "1/1 [==============================] - 0s 24ms/step - loss: 0.0038 - r2_keras_custom: 0.9627 - val_loss: 0.0032 - val_r2_keras_custom: 0.9573\n",
      "Epoch 299/1000\n",
      "1/1 [==============================] - 0s 27ms/step - loss: 0.0038 - r2_keras_custom: 0.9627 - val_loss: 0.0032 - val_r2_keras_custom: 0.9574\n",
      "Epoch 300/1000\n",
      "1/1 [==============================] - 0s 26ms/step - loss: 0.0038 - r2_keras_custom: 0.9628 - val_loss: 0.0032 - val_r2_keras_custom: 0.9576\n",
      "Epoch 301/1000\n",
      "1/1 [==============================] - 0s 27ms/step - loss: 0.0038 - r2_keras_custom: 0.9628 - val_loss: 0.0031 - val_r2_keras_custom: 0.9577\n",
      "Epoch 302/1000\n",
      "1/1 [==============================] - 0s 26ms/step - loss: 0.0038 - r2_keras_custom: 0.9628 - val_loss: 0.0031 - val_r2_keras_custom: 0.9578\n",
      "Epoch 303/1000\n",
      "1/1 [==============================] - 0s 25ms/step - loss: 0.0038 - r2_keras_custom: 0.9629 - val_loss: 0.0031 - val_r2_keras_custom: 0.9579\n",
      "Epoch 304/1000\n",
      "1/1 [==============================] - 0s 23ms/step - loss: 0.0038 - r2_keras_custom: 0.9629 - val_loss: 0.0031 - val_r2_keras_custom: 0.9580\n",
      "Epoch 305/1000\n",
      "1/1 [==============================] - 0s 23ms/step - loss: 0.0038 - r2_keras_custom: 0.9630 - val_loss: 0.0031 - val_r2_keras_custom: 0.9581\n",
      "Epoch 306/1000\n",
      "1/1 [==============================] - 0s 29ms/step - loss: 0.0038 - r2_keras_custom: 0.9630 - val_loss: 0.0031 - val_r2_keras_custom: 0.9582\n",
      "Epoch 307/1000\n",
      "1/1 [==============================] - 0s 29ms/step - loss: 0.0038 - r2_keras_custom: 0.9630 - val_loss: 0.0031 - val_r2_keras_custom: 0.9583\n",
      "Epoch 308/1000\n",
      "1/1 [==============================] - 0s 30ms/step - loss: 0.0038 - r2_keras_custom: 0.9631 - val_loss: 0.0031 - val_r2_keras_custom: 0.9584\n",
      "Epoch 309/1000\n",
      "1/1 [==============================] - 0s 35ms/step - loss: 0.0037 - r2_keras_custom: 0.9631 - val_loss: 0.0031 - val_r2_keras_custom: 0.9585\n",
      "Epoch 310/1000\n",
      "1/1 [==============================] - 0s 30ms/step - loss: 0.0037 - r2_keras_custom: 0.9631 - val_loss: 0.0031 - val_r2_keras_custom: 0.9586\n",
      "Epoch 311/1000\n",
      "1/1 [==============================] - 0s 24ms/step - loss: 0.0037 - r2_keras_custom: 0.9632 - val_loss: 0.0031 - val_r2_keras_custom: 0.9587\n",
      "Epoch 312/1000\n",
      "1/1 [==============================] - 0s 25ms/step - loss: 0.0037 - r2_keras_custom: 0.9632 - val_loss: 0.0031 - val_r2_keras_custom: 0.9588\n",
      "Epoch 313/1000\n",
      "1/1 [==============================] - 0s 26ms/step - loss: 0.0037 - r2_keras_custom: 0.9632 - val_loss: 0.0031 - val_r2_keras_custom: 0.9589\n",
      "Epoch 314/1000\n",
      "1/1 [==============================] - 0s 24ms/step - loss: 0.0037 - r2_keras_custom: 0.9633 - val_loss: 0.0031 - val_r2_keras_custom: 0.9590\n",
      "Epoch 315/1000\n",
      "1/1 [==============================] - 0s 31ms/step - loss: 0.0037 - r2_keras_custom: 0.9633 - val_loss: 0.0030 - val_r2_keras_custom: 0.9591\n",
      "Epoch 316/1000\n",
      "1/1 [==============================] - 0s 29ms/step - loss: 0.0037 - r2_keras_custom: 0.9633 - val_loss: 0.0030 - val_r2_keras_custom: 0.9592\n",
      "Epoch 317/1000\n",
      "1/1 [==============================] - 0s 25ms/step - loss: 0.0037 - r2_keras_custom: 0.9633 - val_loss: 0.0030 - val_r2_keras_custom: 0.9593\n",
      "Epoch 318/1000\n",
      "1/1 [==============================] - 0s 36ms/step - loss: 0.0037 - r2_keras_custom: 0.9634 - val_loss: 0.0030 - val_r2_keras_custom: 0.9594\n",
      "Epoch 319/1000\n",
      "1/1 [==============================] - 0s 39ms/step - loss: 0.0037 - r2_keras_custom: 0.9634 - val_loss: 0.0030 - val_r2_keras_custom: 0.9594\n",
      "Epoch 320/1000\n",
      "1/1 [==============================] - 0s 37ms/step - loss: 0.0037 - r2_keras_custom: 0.9634 - val_loss: 0.0030 - val_r2_keras_custom: 0.9595\n",
      "Epoch 321/1000\n",
      "1/1 [==============================] - 0s 28ms/step - loss: 0.0037 - r2_keras_custom: 0.9635 - val_loss: 0.0030 - val_r2_keras_custom: 0.9596\n",
      "Epoch 322/1000\n",
      "1/1 [==============================] - 0s 28ms/step - loss: 0.0037 - r2_keras_custom: 0.9635 - val_loss: 0.0030 - val_r2_keras_custom: 0.9597\n",
      "Epoch 323/1000\n",
      "1/1 [==============================] - 0s 24ms/step - loss: 0.0037 - r2_keras_custom: 0.9635 - val_loss: 0.0030 - val_r2_keras_custom: 0.9598\n",
      "Epoch 324/1000\n",
      "1/1 [==============================] - 0s 32ms/step - loss: 0.0037 - r2_keras_custom: 0.9636 - val_loss: 0.0030 - val_r2_keras_custom: 0.9599\n",
      "Epoch 325/1000\n",
      "1/1 [==============================] - 0s 36ms/step - loss: 0.0037 - r2_keras_custom: 0.9636 - val_loss: 0.0030 - val_r2_keras_custom: 0.9600\n",
      "Epoch 326/1000\n",
      "1/1 [==============================] - 0s 25ms/step - loss: 0.0037 - r2_keras_custom: 0.9636 - val_loss: 0.0030 - val_r2_keras_custom: 0.9601\n",
      "Epoch 327/1000\n",
      "1/1 [==============================] - 0s 45ms/step - loss: 0.0037 - r2_keras_custom: 0.9637 - val_loss: 0.0030 - val_r2_keras_custom: 0.9602\n",
      "Epoch 328/1000\n",
      "1/1 [==============================] - 0s 29ms/step - loss: 0.0037 - r2_keras_custom: 0.9637 - val_loss: 0.0030 - val_r2_keras_custom: 0.9603\n",
      "Epoch 329/1000\n",
      "1/1 [==============================] - 0s 29ms/step - loss: 0.0037 - r2_keras_custom: 0.9637 - val_loss: 0.0029 - val_r2_keras_custom: 0.9604\n",
      "Epoch 330/1000\n",
      "1/1 [==============================] - 0s 27ms/step - loss: 0.0037 - r2_keras_custom: 0.9637 - val_loss: 0.0029 - val_r2_keras_custom: 0.9605\n",
      "Epoch 331/1000\n",
      "1/1 [==============================] - 0s 29ms/step - loss: 0.0037 - r2_keras_custom: 0.9638 - val_loss: 0.0029 - val_r2_keras_custom: 0.9605\n",
      "Epoch 332/1000\n",
      "1/1 [==============================] - 0s 30ms/step - loss: 0.0037 - r2_keras_custom: 0.9638 - val_loss: 0.0029 - val_r2_keras_custom: 0.9606\n",
      "Epoch 333/1000\n",
      "1/1 [==============================] - 0s 25ms/step - loss: 0.0037 - r2_keras_custom: 0.9638 - val_loss: 0.0029 - val_r2_keras_custom: 0.9607\n",
      "Epoch 334/1000\n",
      "1/1 [==============================] - 0s 44ms/step - loss: 0.0037 - r2_keras_custom: 0.9639 - val_loss: 0.0029 - val_r2_keras_custom: 0.9608\n",
      "Epoch 335/1000\n",
      "1/1 [==============================] - 0s 33ms/step - loss: 0.0037 - r2_keras_custom: 0.9639 - val_loss: 0.0029 - val_r2_keras_custom: 0.9609\n",
      "Epoch 336/1000\n",
      "1/1 [==============================] - 0s 29ms/step - loss: 0.0037 - r2_keras_custom: 0.9639 - val_loss: 0.0029 - val_r2_keras_custom: 0.9610\n",
      "Epoch 337/1000\n",
      "1/1 [==============================] - 0s 29ms/step - loss: 0.0037 - r2_keras_custom: 0.9639 - val_loss: 0.0029 - val_r2_keras_custom: 0.9611\n",
      "Epoch 338/1000\n",
      "1/1 [==============================] - 0s 34ms/step - loss: 0.0037 - r2_keras_custom: 0.9640 - val_loss: 0.0029 - val_r2_keras_custom: 0.9612\n",
      "Epoch 339/1000\n",
      "1/1 [==============================] - 0s 23ms/step - loss: 0.0037 - r2_keras_custom: 0.9640 - val_loss: 0.0029 - val_r2_keras_custom: 0.9612\n",
      "Epoch 340/1000\n",
      "1/1 [==============================] - 0s 26ms/step - loss: 0.0037 - r2_keras_custom: 0.9640 - val_loss: 0.0029 - val_r2_keras_custom: 0.9613\n",
      "Epoch 341/1000\n",
      "1/1 [==============================] - 0s 28ms/step - loss: 0.0037 - r2_keras_custom: 0.9640 - val_loss: 0.0029 - val_r2_keras_custom: 0.9614\n",
      "Epoch 342/1000\n",
      "1/1 [==============================] - 0s 26ms/step - loss: 0.0036 - r2_keras_custom: 0.9641 - val_loss: 0.0029 - val_r2_keras_custom: 0.9615\n",
      "Epoch 343/1000\n",
      "1/1 [==============================] - 0s 39ms/step - loss: 0.0036 - r2_keras_custom: 0.9641 - val_loss: 0.0029 - val_r2_keras_custom: 0.9616\n",
      "Epoch 344/1000\n",
      "1/1 [==============================] - 0s 30ms/step - loss: 0.0036 - r2_keras_custom: 0.9641 - val_loss: 0.0029 - val_r2_keras_custom: 0.9617\n",
      "Epoch 345/1000\n",
      "1/1 [==============================] - 0s 28ms/step - loss: 0.0036 - r2_keras_custom: 0.9642 - val_loss: 0.0028 - val_r2_keras_custom: 0.9617\n",
      "Epoch 346/1000\n",
      "1/1 [==============================] - 0s 42ms/step - loss: 0.0036 - r2_keras_custom: 0.9642 - val_loss: 0.0028 - val_r2_keras_custom: 0.9618\n",
      "Epoch 347/1000\n",
      "1/1 [==============================] - 0s 27ms/step - loss: 0.0036 - r2_keras_custom: 0.9642 - val_loss: 0.0028 - val_r2_keras_custom: 0.9619\n",
      "Epoch 348/1000\n",
      "1/1 [==============================] - 0s 31ms/step - loss: 0.0036 - r2_keras_custom: 0.9642 - val_loss: 0.0028 - val_r2_keras_custom: 0.9620\n",
      "Epoch 349/1000\n",
      "1/1 [==============================] - 0s 25ms/step - loss: 0.0036 - r2_keras_custom: 0.9643 - val_loss: 0.0028 - val_r2_keras_custom: 0.9621\n",
      "Epoch 350/1000\n",
      "1/1 [==============================] - 0s 28ms/step - loss: 0.0036 - r2_keras_custom: 0.9643 - val_loss: 0.0028 - val_r2_keras_custom: 0.9621\n",
      "Epoch 351/1000\n",
      "1/1 [==============================] - 0s 27ms/step - loss: 0.0036 - r2_keras_custom: 0.9643 - val_loss: 0.0028 - val_r2_keras_custom: 0.9622\n",
      "Epoch 352/1000\n",
      "1/1 [==============================] - 0s 31ms/step - loss: 0.0036 - r2_keras_custom: 0.9643 - val_loss: 0.0028 - val_r2_keras_custom: 0.9623\n",
      "Epoch 353/1000\n",
      "1/1 [==============================] - 0s 32ms/step - loss: 0.0036 - r2_keras_custom: 0.9644 - val_loss: 0.0028 - val_r2_keras_custom: 0.9624\n",
      "Epoch 354/1000\n",
      "1/1 [==============================] - 0s 27ms/step - loss: 0.0036 - r2_keras_custom: 0.9644 - val_loss: 0.0028 - val_r2_keras_custom: 0.9624\n",
      "Epoch 355/1000\n",
      "1/1 [==============================] - 0s 26ms/step - loss: 0.0036 - r2_keras_custom: 0.9644 - val_loss: 0.0028 - val_r2_keras_custom: 0.9625\n",
      "Epoch 356/1000\n",
      "1/1 [==============================] - 0s 42ms/step - loss: 0.0036 - r2_keras_custom: 0.9644 - val_loss: 0.0028 - val_r2_keras_custom: 0.9626\n",
      "Epoch 357/1000\n",
      "1/1 [==============================] - 0s 32ms/step - loss: 0.0036 - r2_keras_custom: 0.9645 - val_loss: 0.0028 - val_r2_keras_custom: 0.9627\n",
      "Epoch 358/1000\n",
      "1/1 [==============================] - 0s 33ms/step - loss: 0.0036 - r2_keras_custom: 0.9645 - val_loss: 0.0028 - val_r2_keras_custom: 0.9627\n",
      "Epoch 359/1000\n",
      "1/1 [==============================] - 0s 31ms/step - loss: 0.0036 - r2_keras_custom: 0.9645 - val_loss: 0.0028 - val_r2_keras_custom: 0.9628\n",
      "Epoch 360/1000\n",
      "1/1 [==============================] - 0s 30ms/step - loss: 0.0036 - r2_keras_custom: 0.9645 - val_loss: 0.0028 - val_r2_keras_custom: 0.9629\n",
      "Epoch 361/1000\n",
      "1/1 [==============================] - 0s 30ms/step - loss: 0.0036 - r2_keras_custom: 0.9645 - val_loss: 0.0028 - val_r2_keras_custom: 0.9629\n",
      "Epoch 362/1000\n",
      "1/1 [==============================] - 0s 33ms/step - loss: 0.0036 - r2_keras_custom: 0.9646 - val_loss: 0.0028 - val_r2_keras_custom: 0.9630\n",
      "Epoch 363/1000\n",
      "1/1 [==============================] - 0s 33ms/step - loss: 0.0036 - r2_keras_custom: 0.9646 - val_loss: 0.0027 - val_r2_keras_custom: 0.9631\n",
      "Epoch 364/1000\n",
      "1/1 [==============================] - 0s 31ms/step - loss: 0.0036 - r2_keras_custom: 0.9646 - val_loss: 0.0027 - val_r2_keras_custom: 0.9632\n",
      "Epoch 365/1000\n",
      "1/1 [==============================] - 0s 25ms/step - loss: 0.0036 - r2_keras_custom: 0.9646 - val_loss: 0.0027 - val_r2_keras_custom: 0.9632\n",
      "Epoch 366/1000\n",
      "1/1 [==============================] - 0s 26ms/step - loss: 0.0036 - r2_keras_custom: 0.9647 - val_loss: 0.0027 - val_r2_keras_custom: 0.9633\n",
      "Epoch 367/1000\n",
      "1/1 [==============================] - 0s 26ms/step - loss: 0.0036 - r2_keras_custom: 0.9647 - val_loss: 0.0027 - val_r2_keras_custom: 0.9634\n",
      "Epoch 368/1000\n",
      "1/1 [==============================] - 0s 31ms/step - loss: 0.0036 - r2_keras_custom: 0.9647 - val_loss: 0.0027 - val_r2_keras_custom: 0.9634\n",
      "Epoch 369/1000\n",
      "1/1 [==============================] - 0s 28ms/step - loss: 0.0036 - r2_keras_custom: 0.9647 - val_loss: 0.0027 - val_r2_keras_custom: 0.9635\n",
      "Epoch 370/1000\n",
      "1/1 [==============================] - 0s 25ms/step - loss: 0.0036 - r2_keras_custom: 0.9647 - val_loss: 0.0027 - val_r2_keras_custom: 0.9636\n",
      "Epoch 371/1000\n",
      "1/1 [==============================] - 0s 31ms/step - loss: 0.0036 - r2_keras_custom: 0.9648 - val_loss: 0.0027 - val_r2_keras_custom: 0.9636\n",
      "Epoch 372/1000\n",
      "1/1 [==============================] - 0s 26ms/step - loss: 0.0036 - r2_keras_custom: 0.9648 - val_loss: 0.0027 - val_r2_keras_custom: 0.9637\n",
      "Epoch 373/1000\n",
      "1/1 [==============================] - 0s 28ms/step - loss: 0.0036 - r2_keras_custom: 0.9648 - val_loss: 0.0027 - val_r2_keras_custom: 0.9638\n",
      "Epoch 374/1000\n",
      "1/1 [==============================] - 0s 35ms/step - loss: 0.0036 - r2_keras_custom: 0.9648 - val_loss: 0.0027 - val_r2_keras_custom: 0.9638\n",
      "Epoch 375/1000\n",
      "1/1 [==============================] - 0s 31ms/step - loss: 0.0036 - r2_keras_custom: 0.9649 - val_loss: 0.0027 - val_r2_keras_custom: 0.9639\n",
      "Epoch 376/1000\n",
      "1/1 [==============================] - 0s 27ms/step - loss: 0.0036 - r2_keras_custom: 0.9649 - val_loss: 0.0027 - val_r2_keras_custom: 0.9640\n",
      "Epoch 377/1000\n",
      "1/1 [==============================] - 0s 26ms/step - loss: 0.0036 - r2_keras_custom: 0.9649 - val_loss: 0.0027 - val_r2_keras_custom: 0.9640\n",
      "Epoch 378/1000\n",
      "1/1 [==============================] - 0s 33ms/step - loss: 0.0036 - r2_keras_custom: 0.9649 - val_loss: 0.0027 - val_r2_keras_custom: 0.9641\n",
      "Epoch 379/1000\n",
      "1/1 [==============================] - 0s 28ms/step - loss: 0.0036 - r2_keras_custom: 0.9649 - val_loss: 0.0027 - val_r2_keras_custom: 0.9641\n",
      "Epoch 380/1000\n",
      "1/1 [==============================] - 0s 25ms/step - loss: 0.0036 - r2_keras_custom: 0.9650 - val_loss: 0.0027 - val_r2_keras_custom: 0.9642\n",
      "Epoch 381/1000\n",
      "1/1 [==============================] - 0s 26ms/step - loss: 0.0036 - r2_keras_custom: 0.9650 - val_loss: 0.0027 - val_r2_keras_custom: 0.9643\n",
      "Epoch 382/1000\n",
      "1/1 [==============================] - 0s 31ms/step - loss: 0.0036 - r2_keras_custom: 0.9650 - val_loss: 0.0027 - val_r2_keras_custom: 0.9643\n",
      "Epoch 383/1000\n",
      "1/1 [==============================] - 0s 25ms/step - loss: 0.0036 - r2_keras_custom: 0.9650 - val_loss: 0.0026 - val_r2_keras_custom: 0.9644\n",
      "Epoch 384/1000\n",
      "1/1 [==============================] - 0s 33ms/step - loss: 0.0035 - r2_keras_custom: 0.9650 - val_loss: 0.0026 - val_r2_keras_custom: 0.9644\n",
      "Epoch 385/1000\n",
      "1/1 [==============================] - 0s 31ms/step - loss: 0.0035 - r2_keras_custom: 0.9651 - val_loss: 0.0026 - val_r2_keras_custom: 0.9645\n",
      "Epoch 386/1000\n",
      "1/1 [==============================] - 0s 46ms/step - loss: 0.0035 - r2_keras_custom: 0.9651 - val_loss: 0.0026 - val_r2_keras_custom: 0.9646\n",
      "Epoch 387/1000\n",
      "1/1 [==============================] - 0s 35ms/step - loss: 0.0035 - r2_keras_custom: 0.9651 - val_loss: 0.0026 - val_r2_keras_custom: 0.9646\n",
      "Epoch 388/1000\n",
      "1/1 [==============================] - 0s 37ms/step - loss: 0.0035 - r2_keras_custom: 0.9651 - val_loss: 0.0026 - val_r2_keras_custom: 0.9647\n",
      "Epoch 389/1000\n",
      "1/1 [==============================] - 0s 34ms/step - loss: 0.0035 - r2_keras_custom: 0.9651 - val_loss: 0.0026 - val_r2_keras_custom: 0.9647\n",
      "Epoch 390/1000\n",
      "1/1 [==============================] - 0s 24ms/step - loss: 0.0035 - r2_keras_custom: 0.9652 - val_loss: 0.0026 - val_r2_keras_custom: 0.9648\n",
      "Epoch 391/1000\n",
      "1/1 [==============================] - 0s 32ms/step - loss: 0.0035 - r2_keras_custom: 0.9652 - val_loss: 0.0026 - val_r2_keras_custom: 0.9648\n",
      "Epoch 392/1000\n",
      "1/1 [==============================] - 0s 32ms/step - loss: 0.0035 - r2_keras_custom: 0.9652 - val_loss: 0.0026 - val_r2_keras_custom: 0.9649\n",
      "Epoch 393/1000\n",
      "1/1 [==============================] - 0s 30ms/step - loss: 0.0035 - r2_keras_custom: 0.9652 - val_loss: 0.0026 - val_r2_keras_custom: 0.9650\n",
      "Epoch 394/1000\n",
      "1/1 [==============================] - 0s 25ms/step - loss: 0.0035 - r2_keras_custom: 0.9652 - val_loss: 0.0026 - val_r2_keras_custom: 0.9650\n",
      "Epoch 395/1000\n",
      "1/1 [==============================] - 0s 30ms/step - loss: 0.0035 - r2_keras_custom: 0.9653 - val_loss: 0.0026 - val_r2_keras_custom: 0.9651\n",
      "Epoch 396/1000\n",
      "1/1 [==============================] - 0s 31ms/step - loss: 0.0035 - r2_keras_custom: 0.9653 - val_loss: 0.0026 - val_r2_keras_custom: 0.9651\n",
      "Epoch 397/1000\n",
      "1/1 [==============================] - 0s 26ms/step - loss: 0.0035 - r2_keras_custom: 0.9653 - val_loss: 0.0026 - val_r2_keras_custom: 0.9652\n",
      "Epoch 398/1000\n",
      "1/1 [==============================] - 0s 30ms/step - loss: 0.0035 - r2_keras_custom: 0.9653 - val_loss: 0.0026 - val_r2_keras_custom: 0.9652\n",
      "Epoch 399/1000\n",
      "1/1 [==============================] - 0s 29ms/step - loss: 0.0035 - r2_keras_custom: 0.9653 - val_loss: 0.0026 - val_r2_keras_custom: 0.9653\n",
      "Epoch 400/1000\n",
      "1/1 [==============================] - 0s 30ms/step - loss: 0.0035 - r2_keras_custom: 0.9653 - val_loss: 0.0026 - val_r2_keras_custom: 0.9653\n",
      "Epoch 401/1000\n",
      "1/1 [==============================] - 0s 30ms/step - loss: 0.0035 - r2_keras_custom: 0.9654 - val_loss: 0.0026 - val_r2_keras_custom: 0.9654\n"
     ]
    },
    {
     "data": {
      "text/plain": [
       "<tensorflow.python.keras.callbacks.History at 0x7f2107f8fb90>"
      ]
     },
     "execution_count": 18,
     "metadata": {
      "tags": []
     },
     "output_type": "execute_result"
    }
   ],
   "source": [
    "#Step3: Fit the model\n",
    "\n",
    "CL = 0.95\n",
    "\n",
    "model.fit(X_train,\n",
    "         y_train,\n",
    "         epochs= 1000,\n",
    "         validation_data=(X_test,y_test),\n",
    "         callbacks=[MyThresholdCallback(cl=CL)])"
   ]
  },
  {
   "cell_type": "code",
   "execution_count": null,
   "metadata": {
    "id": "yG4071MWMrbr"
   },
   "outputs": [],
   "source": [
    "#Check the quality of the model\n",
    "# 1. Check for Generalization\n",
    "# 2. Compare accuracy with CL"
   ]
  },
  {
   "cell_type": "code",
   "execution_count": 19,
   "metadata": {
    "colab": {
     "base_uri": "https://localhost:8080/"
    },
    "executionInfo": {
     "elapsed": 350,
     "status": "ok",
     "timestamp": 1627108174249,
     "user": {
      "displayName": "Prashant Nair",
      "photoUrl": "",
      "userId": "01567311054365266478"
     },
     "user_tz": -330
    },
    "id": "dD6J225ZMrbr",
    "outputId": "9a3c9802-2346-4a34-ea0b-f0f574eb7790"
   },
   "outputs": [
    {
     "name": "stdout",
     "output_type": "stream",
     "text": [
      "1/1 [==============================] - 0s 16ms/step - loss: 0.0035 - r2_keras_custom: 0.9654\n",
      "1/1 [==============================] - 0s 15ms/step - loss: 0.0026 - r2_keras_custom: 0.9654\n",
      "Training Score is 0.9653823375701904 and Testing score is 0.96538907289505\n"
     ]
    }
   ],
   "source": [
    "# 1. Check for Generalization\n",
    "\n",
    "print(\"Training Score is {} and Testing score is {}\".format(model.evaluate(X_train,y_train)[1],\n",
    "                                                            model.evaluate(X_test,y_test)[1]))"
   ]
  },
  {
   "cell_type": "code",
   "execution_count": 20,
   "metadata": {
    "executionInfo": {
     "elapsed": 2,
     "status": "ok",
     "timestamp": 1627108177075,
     "user": {
      "displayName": "Prashant Nair",
      "photoUrl": "",
      "userId": "01567311054365266478"
     },
     "user_tz": -330
    },
    "id": "xsdjP5fcMrbs"
   },
   "outputs": [],
   "source": [
    "#Since testing score > training score, therefore my model is a generalized model"
   ]
  },
  {
   "cell_type": "code",
   "execution_count": 21,
   "metadata": {
    "executionInfo": {
     "elapsed": 370,
     "status": "ok",
     "timestamp": 1627108180671,
     "user": {
      "displayName": "Prashant Nair",
      "photoUrl": "",
      "userId": "01567311054365266478"
     },
     "user_tz": -330
    },
    "id": "0iZoPFOlMrbs"
   },
   "outputs": [],
   "source": [
    "# 2. Compare accuracy with CL\n",
    "# SL = 0.05\n",
    "# CL = 1 - SL = 0.95\n",
    "\n",
    "# TestScore >= CL ---- TRue therefore model is a good quality model !!!"
   ]
  },
  {
   "cell_type": "code",
   "execution_count": 22,
   "metadata": {
    "colab": {
     "base_uri": "https://localhost:8080/"
    },
    "executionInfo": {
     "elapsed": 1979,
     "status": "ok",
     "timestamp": 1627108183187,
     "user": {
      "displayName": "Prashant Nair",
      "photoUrl": "",
      "userId": "01567311054365266478"
     },
     "user_tz": -330
    },
    "id": "LiHVYbk7Mrbs",
    "outputId": "17529e02-6296-44cd-9f89-cba62e51856f"
   },
   "outputs": [
    {
     "name": "stdout",
     "output_type": "stream",
     "text": [
      "Enter Years of experience: 3\n",
      "Salary Predicted by model is $53318.09375\n"
     ]
    }
   ],
   "source": [
    "# Deployment Check for App\n",
    "\n",
    "# Get the user input\n",
    "\n",
    "yearsExperience= float(input(\"Enter Years of experience: \"))\n",
    "\n",
    "# Convert input into numpy 2d array\n",
    "\n",
    "yearsExperienceNP = np.array([[yearsExperience]])\n",
    "\n",
    "# Standardize it\n",
    "\n",
    "yExpStd = scFeatures.transform(yearsExperienceNP)\n",
    "\n",
    "# Prediction\n",
    "\n",
    "output = model.predict(yExpStd)\n",
    "actualOutput = minmaxLabel.inverse_transform(output)\n",
    "\n",
    "print(\"Salary Predicted by model is ${}\".format(actualOutput[0][0]))"
   ]
  },
  {
   "cell_type": "code",
   "execution_count": 23,
   "metadata": {
    "colab": {
     "base_uri": "https://localhost:8080/"
    },
    "executionInfo": {
     "elapsed": 900,
     "status": "ok",
     "timestamp": 1627108190942,
     "user": {
      "displayName": "Prashant Nair",
      "photoUrl": "",
      "userId": "01567311054365266478"
     },
     "user_tz": -330
    },
    "id": "pA5id8DLMrbs",
    "outputId": "0b48de62-975a-4a45-c272-4932e822160a"
   },
   "outputs": [
    {
     "name": "stdout",
     "output_type": "stream",
     "text": [
      "INFO:tensorflow:Assets written to: SalPredDL/assets\n"
     ]
    }
   ],
   "source": [
    "# Deploy all relevant objects\n",
    "\n",
    "model.save('SalPredDL')"
   ]
  },
  {
   "cell_type": "code",
   "execution_count": 30,
   "metadata": {
    "colab": {
     "base_uri": "https://localhost:8080/"
    },
    "executionInfo": {
     "elapsed": 942,
     "status": "ok",
     "timestamp": 1627109028893,
     "user": {
      "displayName": "Prashant Nair",
      "photoUrl": "",
      "userId": "01567311054365266478"
     },
     "user_tz": -330
    },
    "id": "aQaatlAlQPhD",
    "outputId": "9e410723-004b-4d6b-f282-7bc09fb9f52d"
   },
   "outputs": [
    {
     "name": "stdout",
     "output_type": "stream",
     "text": [
      "INFO:tensorflow:Assets written to: sal_pred/assets\n"
     ]
    }
   ],
   "source": [
    "tf.keras.models.save_model(model, 'sal_pred')"
   ]
  },
  {
   "cell_type": "code",
   "execution_count": 24,
   "metadata": {
    "executionInfo": {
     "elapsed": 337,
     "status": "ok",
     "timestamp": 1627108198801,
     "user": {
      "displayName": "Prashant Nair",
      "photoUrl": "",
      "userId": "01567311054365266478"
     },
     "user_tz": -330
    },
    "id": "zvabGTq1Mrbt"
   },
   "outputs": [],
   "source": [
    "import pickle\n",
    "pickle.dump(scFeatures, open('FeatureNormalizer.nm','wb'))\n",
    "pickle.dump(minmaxLabel, open('LabelNormalizer.nm','wb'))"
   ]
  },
  {
   "cell_type": "code",
   "execution_count": 25,
   "metadata": {
    "executionInfo": {
     "elapsed": 354,
     "status": "ok",
     "timestamp": 1627108267247,
     "user": {
      "displayName": "Prashant Nair",
      "photoUrl": "",
      "userId": "01567311054365266478"
     },
     "user_tz": -330
    },
    "id": "SIGjNnDvMrbt"
   },
   "outputs": [],
   "source": [
    "pickle.dump(r2_keras_custom, open('r2_keras_custom.fn','wb'))"
   ]
  },
  {
   "cell_type": "code",
   "execution_count": 29,
   "metadata": {
    "colab": {
     "base_uri": "https://localhost:8080/"
    },
    "executionInfo": {
     "elapsed": 476,
     "status": "ok",
     "timestamp": 1627108533399,
     "user": {
      "displayName": "Prashant Nair",
      "photoUrl": "",
      "userId": "01567311054365266478"
     },
     "user_tz": -330
    },
    "id": "G3I2XEomNdFO",
    "outputId": "2249b051-d176-4891-f2e6-d923a55200de"
   },
   "outputs": [
    {
     "name": "stdout",
     "output_type": "stream",
     "text": [
      "  adding: SalPredDL/assets/ (stored 0%)\n",
      "  adding: SalPredDL/keras_metadata.pb (deflated 89%)\n",
      "  adding: SalPredDL/saved_model.pb (deflated 88%)\n",
      "  adding: SalPredDL/variables/ (stored 0%)\n"
     ]
    }
   ],
   "source": [
    "! zip sal.zip SalPredDL/*"
   ]
  },
  {
   "cell_type": "code",
   "execution_count": 31,
   "metadata": {
    "colab": {
     "base_uri": "https://localhost:8080/"
    },
    "executionInfo": {
     "elapsed": 982,
     "status": "ok",
     "timestamp": 1627109147172,
     "user": {
      "displayName": "Prashant Nair",
      "photoUrl": "",
      "userId": "01567311054365266478"
     },
     "user_tz": -330
    },
    "id": "NVhrilwhNqyB",
    "outputId": "b9f926e0-153e-4796-d2ea-44baf4bd80e2"
   },
   "outputs": [
    {
     "name": "stdout",
     "output_type": "stream",
     "text": [
      "INFO:tensorflow:Assets written to: my_tf_model/assets\n"
     ]
    }
   ],
   "source": [
    "model.save('my_tf_model')"
   ]
  },
  {
   "cell_type": "code",
   "execution_count": 33,
   "metadata": {
    "executionInfo": {
     "elapsed": 355,
     "status": "ok",
     "timestamp": 1627109259481,
     "user": {
      "displayName": "Prashant Nair",
      "photoUrl": "",
      "userId": "01567311054365266478"
     },
     "user_tz": -330
    },
    "id": "E__omQiSQzwc"
   },
   "outputs": [],
   "source": [
    "model.save('test.h5')"
   ]
  },
  {
   "cell_type": "code",
   "execution_count": null,
   "metadata": {
    "id": "tYUczaNCRNwh"
   },
   "outputs": [],
   "source": []
  }
 ],
 "metadata": {
  "accelerator": "GPU",
  "colab": {
   "name": "3.Regression Example_ANNExample_tf.keras.ipynb",
   "provenance": []
  },
  "kernelspec": {
   "display_name": "Python 3",
   "language": "python",
   "name": "python3"
  },
  "language_info": {
   "codemirror_mode": {
    "name": "ipython",
    "version": 3
   },
   "file_extension": ".py",
   "mimetype": "text/x-python",
   "name": "python",
   "nbconvert_exporter": "python",
   "pygments_lexer": "ipython3",
   "version": "3.8.5"
  }
 },
 "nbformat": 4,
 "nbformat_minor": 1
}
