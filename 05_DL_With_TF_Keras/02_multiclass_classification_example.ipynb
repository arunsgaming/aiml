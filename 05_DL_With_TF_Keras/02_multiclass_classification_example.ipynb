{
  "nbformat": 4,
  "nbformat_minor": 0,
  "metadata": {
    "colab": {
      "name": "2. MultiClass Classification Example.ipynb",
      "provenance": []
    },
    "kernelspec": {
      "name": "python3",
      "display_name": "Python 3"
    },
    "language_info": {
      "name": "python"
    },
    "accelerator": "GPU"
  },
  "cells": [
    {
      "cell_type": "code",
      "metadata": {
        "id": "foSEdO64PwUB"
      },
      "source": [
        "import numpy as np\n",
        "import pandas as pd\n",
        "import tensorflow as tf"
      ],
      "execution_count": 7,
      "outputs": []
    },
    {
      "cell_type": "code",
      "metadata": {
        "id": "hj6Ap6geRSsv"
      },
      "source": [
        "data = pd.read_csv(\"https://gist.githubusercontent.com/curran/a08a1080b88344b0c8a7/raw/d546eaee765268bf2f487608c537c05e22e4b221/iris.csv\")"
      ],
      "execution_count": 2,
      "outputs": []
    },
    {
      "cell_type": "code",
      "metadata": {
        "colab": {
          "base_uri": "https://localhost:8080/"
        },
        "id": "V1sEBIZ5RUb5",
        "outputId": "5d2e8a4f-c18e-4800-8d11-6fb2b892605e"
      },
      "source": [
        "data.info()"
      ],
      "execution_count": 3,
      "outputs": [
        {
          "output_type": "stream",
          "text": [
            "<class 'pandas.core.frame.DataFrame'>\n",
            "RangeIndex: 150 entries, 0 to 149\n",
            "Data columns (total 5 columns):\n",
            " #   Column        Non-Null Count  Dtype  \n",
            "---  ------        --------------  -----  \n",
            " 0   sepal_length  150 non-null    float64\n",
            " 1   sepal_width   150 non-null    float64\n",
            " 2   petal_length  150 non-null    float64\n",
            " 3   petal_width   150 non-null    float64\n",
            " 4   species       150 non-null    object \n",
            "dtypes: float64(4), object(1)\n",
            "memory usage: 6.0+ KB\n"
          ],
          "name": "stdout"
        }
      ]
    },
    {
      "cell_type": "code",
      "metadata": {
        "colab": {
          "base_uri": "https://localhost:8080/"
        },
        "id": "qn15IDHnRU7x",
        "outputId": "7ae0d693-9886-475a-9670-1280dd0ef260"
      },
      "source": [
        "data.species.value_counts()"
      ],
      "execution_count": 4,
      "outputs": [
        {
          "output_type": "execute_result",
          "data": {
            "text/plain": [
              "virginica     50\n",
              "setosa        50\n",
              "versicolor    50\n",
              "Name: species, dtype: int64"
            ]
          },
          "metadata": {
            "tags": []
          },
          "execution_count": 4
        }
      ]
    },
    {
      "cell_type": "code",
      "metadata": {
        "id": "TmMxuDE4RZiD"
      },
      "source": [
        "# Features and Label\n",
        "features = data.iloc[:,:-1].values\n",
        "label = data.iloc[:,-1].values"
      ],
      "execution_count": 5,
      "outputs": []
    },
    {
      "cell_type": "code",
      "metadata": {
        "id": "FN7esHWMRiA8"
      },
      "source": [
        "from sklearn.preprocessing import StandardScaler\n",
        "scFeatures = StandardScaler()\n",
        "features = scFeatures.fit_transform(features)"
      ],
      "execution_count": 6,
      "outputs": []
    },
    {
      "cell_type": "code",
      "metadata": {
        "id": "6YoAdUlrRuvo"
      },
      "source": [
        "#For Multiclass classification, Handling Label column is mandatory\n",
        "# You need to use Dummy Variables\n",
        "\n",
        "from sklearn.preprocessing import LabelEncoder\n",
        "leSpecies = LabelEncoder()\n",
        "label = leSpecies.fit_transform(label)\n",
        "\n",
        "# To create Dummy Variables\n",
        "\n",
        "oheLabels = tf.keras.utils.to_categorical(label)\n"
      ],
      "execution_count": 8,
      "outputs": []
    },
    {
      "cell_type": "code",
      "metadata": {
        "id": "Azyq-xgYSZtf"
      },
      "source": [
        "# Create Train Test Split\n",
        "\n",
        "from sklearn.model_selection import train_test_split\n",
        "X_train,X_test,y_train,y_test = train_test_split(features,\n",
        "                                                 oheLabels,\n",
        "                                                 test_size=0.2,\n",
        "                                                 random_state = 10)"
      ],
      "execution_count": 10,
      "outputs": []
    },
    {
      "cell_type": "code",
      "metadata": {
        "id": "9exC2JX_Sxfn"
      },
      "source": [
        "#Modelling\n",
        "\n",
        "model = tf.keras.models.Sequential()\n",
        "\n",
        "model.add(tf.keras.layers.Dense( units = 12 , activation= \"relu\", input_shape=(4,)))\n",
        "model.add(tf.keras.layers.Dense( units = 12 , activation= \"relu\"))\n",
        "model.add(tf.keras.layers.Dense( units = 12 , activation= \"relu\"))\n",
        "model.add(tf.keras.layers.Dense( units = 3 , activation= \"softmax\"))\n"
      ],
      "execution_count": 11,
      "outputs": []
    },
    {
      "cell_type": "code",
      "metadata": {
        "id": "OMwlkGSkS-dx"
      },
      "source": [
        "model.compile(optimizer=tf.keras.optimizers.Adam(learning_rate=0.01),\n",
        "             loss=\"categorical_crossentropy\",\n",
        "             metrics=[\"accuracy\"])"
      ],
      "execution_count": 12,
      "outputs": []
    },
    {
      "cell_type": "code",
      "metadata": {
        "id": "nWfGqDucTEBW"
      },
      "source": [
        "class MyThresholdCallback(tf.keras.callbacks.Callback):\n",
        "    def __init__(self,cl):\n",
        "        super(MyThresholdCallback,self).__init__()\n",
        "        self.cl=cl\n",
        "        \n",
        "    def on_epoch_end(self, epoch, logs=None):\n",
        "        testScore = logs['val_accuracy']\n",
        "        trainScore = logs['accuracy']\n",
        "        \n",
        "        if testScore > trainScore and testScore >= self.cl:\n",
        "            self.model.stop_training = True"
      ],
      "execution_count": 13,
      "outputs": []
    },
    {
      "cell_type": "code",
      "metadata": {
        "colab": {
          "base_uri": "https://localhost:8080/"
        },
        "id": "iTK_MaclTGs7",
        "outputId": "d86d02ec-dae3-4692-fc78-ea7afad6ee00"
      },
      "source": [
        "# Fit model\n",
        "\n",
        "model.fit(X_train, y_train, epochs=2000, validation_data=(X_test,y_test), callbacks=[MyThresholdCallback(cl=0.95)])"
      ],
      "execution_count": 14,
      "outputs": [
        {
          "output_type": "stream",
          "text": [
            "Epoch 1/2000\n",
            "4/4 [==============================] - 3s 60ms/step - loss: 1.0614 - accuracy: 0.3500 - val_loss: 1.0001 - val_accuracy: 0.5667\n",
            "Epoch 2/2000\n",
            "4/4 [==============================] - 0s 9ms/step - loss: 0.8712 - accuracy: 0.6833 - val_loss: 0.8463 - val_accuracy: 0.6000\n",
            "Epoch 3/2000\n",
            "4/4 [==============================] - 0s 9ms/step - loss: 0.6923 - accuracy: 0.6917 - val_loss: 0.6822 - val_accuracy: 0.6333\n",
            "Epoch 4/2000\n",
            "4/4 [==============================] - 0s 9ms/step - loss: 0.5282 - accuracy: 0.7833 - val_loss: 0.5092 - val_accuracy: 0.7667\n",
            "Epoch 5/2000\n",
            "4/4 [==============================] - 0s 8ms/step - loss: 0.3924 - accuracy: 0.8583 - val_loss: 0.3780 - val_accuracy: 0.9333\n",
            "Epoch 6/2000\n",
            "4/4 [==============================] - 0s 8ms/step - loss: 0.3113 - accuracy: 0.9250 - val_loss: 0.2851 - val_accuracy: 1.0000\n"
          ],
          "name": "stdout"
        },
        {
          "output_type": "execute_result",
          "data": {
            "text/plain": [
              "<tensorflow.python.keras.callbacks.History at 0x7f54b58c47d0>"
            ]
          },
          "metadata": {
            "tags": []
          },
          "execution_count": 14
        }
      ]
    },
    {
      "cell_type": "code",
      "metadata": {
        "colab": {
          "base_uri": "https://localhost:8080/"
        },
        "id": "bMDvWAHqTMo8",
        "outputId": "3dd078de-bc6e-40ea-b6ee-71430c21003c"
      },
      "source": [
        "model.save('IrisModel')"
      ],
      "execution_count": 15,
      "outputs": [
        {
          "output_type": "stream",
          "text": [
            "INFO:tensorflow:Assets written to: IrisModel/assets\n"
          ],
          "name": "stdout"
        }
      ]
    },
    {
      "cell_type": "code",
      "metadata": {
        "colab": {
          "base_uri": "https://localhost:8080/"
        },
        "id": "qyjgUMxqTWhy",
        "outputId": "d8c65842-ff32-40ae-8598-6fe9d053b3dc"
      },
      "source": [
        "#Confusion Matrix for Entire dataset\n",
        "\n",
        "from sklearn.metrics import confusion_matrix\n",
        "y_true = label\n",
        "y_pred = np.argmax(model.predict(features), axis = 1)\n",
        "confusion_matrix(y_true,y_pred)"
      ],
      "execution_count": 16,
      "outputs": [
        {
          "output_type": "execute_result",
          "data": {
            "text/plain": [
              "array([[50,  0,  0],\n",
              "       [ 0, 46,  4],\n",
              "       [ 0,  3, 47]])"
            ]
          },
          "metadata": {
            "tags": []
          },
          "execution_count": 16
        }
      ]
    },
    {
      "cell_type": "code",
      "metadata": {
        "colab": {
          "base_uri": "https://localhost:8080/"
        },
        "id": "7LTVtgSgTjEU",
        "outputId": "82ff547e-6463-490a-821b-c8673a448529"
      },
      "source": [
        "from sklearn.metrics import classification_report\n",
        "print(classification_report(y_true,y_pred))"
      ],
      "execution_count": 17,
      "outputs": [
        {
          "output_type": "stream",
          "text": [
            "              precision    recall  f1-score   support\n",
            "\n",
            "           0       1.00      1.00      1.00        50\n",
            "           1       0.94      0.92      0.93        50\n",
            "           2       0.92      0.94      0.93        50\n",
            "\n",
            "    accuracy                           0.95       150\n",
            "   macro avg       0.95      0.95      0.95       150\n",
            "weighted avg       0.95      0.95      0.95       150\n",
            "\n"
          ],
          "name": "stdout"
        }
      ]
    },
    {
      "cell_type": "code",
      "metadata": {
        "colab": {
          "base_uri": "https://localhost:8080/"
        },
        "id": "4PUPfUv-UNWj",
        "outputId": "64649fb7-fb07-4101-9339-968fdaa9fe66"
      },
      "source": [
        "label"
      ],
      "execution_count": 18,
      "outputs": [
        {
          "output_type": "execute_result",
          "data": {
            "text/plain": [
              "array([0, 0, 0, 0, 0, 0, 0, 0, 0, 0, 0, 0, 0, 0, 0, 0, 0, 0, 0, 0, 0, 0,\n",
              "       0, 0, 0, 0, 0, 0, 0, 0, 0, 0, 0, 0, 0, 0, 0, 0, 0, 0, 0, 0, 0, 0,\n",
              "       0, 0, 0, 0, 0, 0, 1, 1, 1, 1, 1, 1, 1, 1, 1, 1, 1, 1, 1, 1, 1, 1,\n",
              "       1, 1, 1, 1, 1, 1, 1, 1, 1, 1, 1, 1, 1, 1, 1, 1, 1, 1, 1, 1, 1, 1,\n",
              "       1, 1, 1, 1, 1, 1, 1, 1, 1, 1, 1, 1, 2, 2, 2, 2, 2, 2, 2, 2, 2, 2,\n",
              "       2, 2, 2, 2, 2, 2, 2, 2, 2, 2, 2, 2, 2, 2, 2, 2, 2, 2, 2, 2, 2, 2,\n",
              "       2, 2, 2, 2, 2, 2, 2, 2, 2, 2, 2, 2, 2, 2, 2, 2, 2, 2])"
            ]
          },
          "metadata": {
            "tags": []
          },
          "execution_count": 18
        }
      ]
    },
    {
      "cell_type": "code",
      "metadata": {
        "colab": {
          "base_uri": "https://localhost:8080/"
        },
        "id": "-sNJ-73bTmte",
        "outputId": "95f7b366-abe6-489c-ce6d-9cea89fcaaaa"
      },
      "source": [
        "# Model2\n",
        "\n",
        "from sklearn.model_selection import train_test_split\n",
        "X_train,X_test,y_train,y_test = train_test_split(features,\n",
        "                                                 label,\n",
        "                                                 test_size=0.2,\n",
        "                                                 random_state = 10)\n",
        "\n",
        "model2 = tf.keras.models.Sequential()\n",
        "\n",
        "model2.add(tf.keras.layers.Dense( units = 12 , activation= \"relu\", input_shape=(4,)))\n",
        "model2.add(tf.keras.layers.Dense( units = 12 , activation= \"relu\"))\n",
        "model2.add(tf.keras.layers.Dense( units = 12 , activation= \"relu\"))\n",
        "model2.add(tf.keras.layers.Dense( units = 3 , activation= \"softmax\"))\n",
        "\n",
        "model2.compile(optimizer=tf.keras.optimizers.Adam(learning_rate=0.01),\n",
        "             loss=\"sparse_categorical_crossentropy\", #No need to create dummy variables :)\n",
        "             metrics=[\"accuracy\"])\n",
        "\n",
        "\n",
        "\n",
        "model2.fit(X_train, y_train, epochs=2000, validation_data=(X_test,y_test), callbacks=[MyThresholdCallback(cl=0.95)])"
      ],
      "execution_count": 22,
      "outputs": [
        {
          "output_type": "stream",
          "text": [
            "Epoch 1/2000\n",
            "1/4 [======>.......................] - ETA: 0s - loss: 0.9266 - accuracy: 0.6250WARNING:tensorflow:5 out of the last 11 calls to <function Model.make_test_function.<locals>.test_function at 0x7f54564c4d40> triggered tf.function retracing. Tracing is expensive and the excessive number of tracings could be due to (1) creating @tf.function repeatedly in a loop, (2) passing tensors with different shapes, (3) passing Python objects instead of tensors. For (1), please define your @tf.function outside of the loop. For (2), @tf.function has experimental_relax_shapes=True option that relaxes argument shapes that can avoid unnecessary retracing. For (3), please refer to https://www.tensorflow.org/guide/function#controlling_retracing and https://www.tensorflow.org/api_docs/python/tf/function for  more details.\n",
            "4/4 [==============================] - 0s 42ms/step - loss: 0.8710 - accuracy: 0.6083 - val_loss: 0.8212 - val_accuracy: 0.5667\n",
            "Epoch 2/2000\n",
            "4/4 [==============================] - 0s 7ms/step - loss: 0.6835 - accuracy: 0.7000 - val_loss: 0.6407 - val_accuracy: 0.6667\n",
            "Epoch 3/2000\n",
            "4/4 [==============================] - 0s 13ms/step - loss: 0.5329 - accuracy: 0.7500 - val_loss: 0.4867 - val_accuracy: 0.7667\n",
            "Epoch 4/2000\n",
            "4/4 [==============================] - 0s 7ms/step - loss: 0.4026 - accuracy: 0.8333 - val_loss: 0.3815 - val_accuracy: 0.8333\n",
            "Epoch 5/2000\n",
            "4/4 [==============================] - 0s 7ms/step - loss: 0.3194 - accuracy: 0.8750 - val_loss: 0.2966 - val_accuracy: 0.9000\n",
            "Epoch 6/2000\n",
            "4/4 [==============================] - 0s 8ms/step - loss: 0.2743 - accuracy: 0.9000 - val_loss: 0.2402 - val_accuracy: 0.9667\n"
          ],
          "name": "stdout"
        },
        {
          "output_type": "execute_result",
          "data": {
            "text/plain": [
              "<tensorflow.python.keras.callbacks.History at 0x7f54565abc90>"
            ]
          },
          "metadata": {
            "tags": []
          },
          "execution_count": 22
        }
      ]
    },
    {
      "cell_type": "code",
      "metadata": {
        "id": "r6ijDuXMUWUE"
      },
      "source": [
        ""
      ],
      "execution_count": null,
      "outputs": []
    }
  ]
}