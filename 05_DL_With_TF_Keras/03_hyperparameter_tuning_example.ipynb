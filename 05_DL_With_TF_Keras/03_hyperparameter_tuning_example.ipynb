{
  "nbformat": 4,
  "nbformat_minor": 0,
  "metadata": {
    "kernelspec": {
      "display_name": "Python 3",
      "language": "python",
      "name": "python3"
    },
    "language_info": {
      "codemirror_mode": {
        "name": "ipython",
        "version": 3
      },
      "file_extension": ".py",
      "mimetype": "text/x-python",
      "name": "python",
      "nbconvert_exporter": "python",
      "pygments_lexer": "ipython3",
      "version": "3.7.6"
    },
    "colab": {
      "name": "2. Hyperparameter Tuning Example.ipynb",
      "provenance": []
    }
  },
  "cells": [
    {
      "cell_type": "code",
      "metadata": {
        "id": "uutl7qgkw_SH"
      },
      "source": [
        "# What is Hyperparameter?\n",
        "#\n",
        "# The parameters that we set in the model constructor during the initialization phase are hyperparameters.\n",
        "#\n",
        "# Every algo has different set of Hyperparameters\n",
        "# Our Goal is to identify the best Hyperparameters for the given dataset and model\n",
        "# This is something we can achieve using Hyperparameter Tuning\n",
        "\n",
        "# Is Hyperparameter Tuning Mandatory?\n",
        "# No, if you achieve the best model using default config\n"
      ],
      "execution_count": null,
      "outputs": []
    },
    {
      "cell_type": "code",
      "metadata": {
        "id": "loAB0hiow_SI"
      },
      "source": [
        "import numpy as np\n",
        "import pandas as pd"
      ],
      "execution_count": null,
      "outputs": []
    },
    {
      "cell_type": "code",
      "metadata": {
        "id": "1WciPjQZw_SI"
      },
      "source": [
        "data = pd.read_csv(\"iris.csv\")"
      ],
      "execution_count": null,
      "outputs": []
    },
    {
      "cell_type": "code",
      "metadata": {
        "id": "jUW686iaw_SI"
      },
      "source": [
        "features = data.iloc[:,:-1].values\n",
        "label = data.iloc[:,-1].values"
      ],
      "execution_count": null,
      "outputs": []
    },
    {
      "cell_type": "code",
      "metadata": {
        "id": "FtEtW0_yw_SI"
      },
      "source": [
        "from sklearn.neighbors import KNeighborsClassifier\n",
        "modeltest = KNeighborsClassifier()"
      ],
      "execution_count": null,
      "outputs": []
    },
    {
      "cell_type": "code",
      "metadata": {
        "id": "5YQK6esLw_SI",
        "outputId": "2e4c76df-eb53-41c2-ef06-4fd4f22a6b96"
      },
      "source": [
        "from sklearn.model_selection import cross_val_score\n",
        "\n",
        "# Supress warnings\n",
        "import warnings\n",
        "warnings.filterwarnings('ignore')\n",
        "\n",
        "scores = cross_val_score(modeltest,\n",
        "                        features,\n",
        "                        label,\n",
        "                        cv = 10) #5 or 10\n",
        "\n",
        "scores"
      ],
      "execution_count": null,
      "outputs": [
        {
          "output_type": "execute_result",
          "data": {
            "text/plain": [
              "array([1.        , 0.93333333, 1.        , 1.        , 0.86666667,\n",
              "       0.93333333, 0.93333333, 1.        , 1.        , 1.        ])"
            ]
          },
          "metadata": {
            "tags": []
          },
          "execution_count": 6
        }
      ]
    },
    {
      "cell_type": "code",
      "metadata": {
        "id": "dbj65dVSw_SJ",
        "outputId": "632bf1a1-8561-4022-886a-d691f8a02ba0"
      },
      "source": [
        "scores.mean()"
      ],
      "execution_count": null,
      "outputs": [
        {
          "output_type": "execute_result",
          "data": {
            "text/plain": [
              "0.9666666666666668"
            ]
          },
          "metadata": {
            "tags": []
          },
          "execution_count": 7
        }
      ]
    },
    {
      "cell_type": "code",
      "metadata": {
        "id": "Yeckks_Gw_SJ"
      },
      "source": [
        "#Goal: To identify the best Hyperparamter combinations for KNN w.r.t iris dataset\n",
        "#      that can give me the score > 0.96"
      ],
      "execution_count": null,
      "outputs": []
    },
    {
      "cell_type": "markdown",
      "metadata": {
        "id": "7m5JsArpw_SJ"
      },
      "source": [
        "# Method 1 --- Using GridSearchCV"
      ]
    },
    {
      "cell_type": "code",
      "metadata": {
        "id": "OXHeWQnCw_SJ"
      },
      "source": [
        "'''\n",
        "KNeighborsClassifier(\t\n",
        "n_neighbors=5,\t               Positive Integer\n",
        "weights='uniform',\t          ‘uniform’, 'distance' \n",
        "algorithm='auto',\t          'auto', 'ball_tree', 'kd_tree', 'brute'\n",
        "leaf_size=30,\t               Positive Integer\n",
        "p=2,\t1                     (Manhattan distance),   2(Elucidean distance)\n",
        "metric='minkowski',\t          \"“euclidean”, “manhattan”, “chebyshev”, “minkowski”\n",
        "                               “wminkowski”, “seuclidean”, “mahalanobis”\"\n",
        "metric_params=None,\t          Dictionary\n",
        "n_jobs=None,\t-1,            1 or -2\n",
        "**kwargs,\t\n",
        ")\t\n",
        "\n",
        "'''\n"
      ],
      "execution_count": null,
      "outputs": []
    },
    {
      "cell_type": "code",
      "metadata": {
        "id": "mV_WRq_6w_SK"
      },
      "source": [
        "#Step1: Design the parameter grid. In Python, you can represent parameter grid in the form of Dictionary\n",
        "\n",
        "weightsParameter = ['uniform','distance']\n",
        "n_neighborsParameter = np.arange(1,31)\n",
        "algorithmParameter = ['auto', 'ball_tree', 'kd_tree', 'brute']\n",
        "metricParameter = ['euclidean', 'manhattan', 'chebyshev' , 'minkowski', 'seuclidean', 'mahalanobis']\n",
        "\n",
        "\n",
        "paramGrid = dict(n_neighbors = n_neighborsParameter,\n",
        "                weights= weightsParameter,\n",
        "                algorithm = algorithmParameter,\n",
        "                metric=metricParameter)\n",
        "\n",
        "# Step2: Initialize the algo\n",
        "\n",
        "from sklearn.neighbors import KNeighborsClassifier\n",
        "modelGridSearch = KNeighborsClassifier()\n",
        "\n",
        "#Step3: Search the best parameter for your data\n",
        "\n",
        "#GridSearchCV\n",
        "\n",
        "\n",
        "from sklearn.model_selection import GridSearchCV\n",
        "grid = GridSearchCV(modelGridSearch,\n",
        "                   param_grid=paramGrid,\n",
        "                   cv = 10) #Same as cross_val_score"
      ],
      "execution_count": null,
      "outputs": []
    },
    {
      "cell_type": "code",
      "metadata": {
        "id": "6rqB0UH7w_SK",
        "outputId": "71ada06b-5174-4f32-9dd1-f9c0ac10bcb5"
      },
      "source": [
        "# Step4: Extract Results\n",
        "\n",
        "grid.fit(features,label)"
      ],
      "execution_count": null,
      "outputs": [
        {
          "output_type": "execute_result",
          "data": {
            "text/plain": [
              "GridSearchCV(cv=10, error_score=nan,\n",
              "             estimator=KNeighborsClassifier(algorithm='auto', leaf_size=30,\n",
              "                                            metric='minkowski',\n",
              "                                            metric_params=None, n_jobs=None,\n",
              "                                            n_neighbors=5, p=2,\n",
              "                                            weights='uniform'),\n",
              "             iid='deprecated', n_jobs=None,\n",
              "             param_grid={'algorithm': ['auto', 'ball_tree', 'kd_tree', 'brute'],\n",
              "                         'metric': ['euclidean', 'manhattan', 'chebyshev',\n",
              "                                    'minkowski', 'seuclidean', 'mahalanobis'],\n",
              "                         'n_neighbors': array([ 1,  2,  3,  4,  5,  6,  7,  8,  9, 10, 11, 12, 13, 14, 15, 16, 17,\n",
              "       18, 19, 20, 21, 22, 23, 24, 25, 26, 27, 28, 29, 30]),\n",
              "                         'weights': ['uniform', 'distance']},\n",
              "             pre_dispatch='2*n_jobs', refit=True, return_train_score=False,\n",
              "             scoring=None, verbose=0)"
            ]
          },
          "metadata": {
            "tags": []
          },
          "execution_count": 12
        }
      ]
    },
    {
      "cell_type": "code",
      "metadata": {
        "id": "sPogBgISw_SK",
        "outputId": "1b7bb676-b3ab-402b-dace-8589e61fe447"
      },
      "source": [
        "grid.best_score_"
      ],
      "execution_count": null,
      "outputs": [
        {
          "output_type": "execute_result",
          "data": {
            "text/plain": [
              "0.9866666666666667"
            ]
          },
          "metadata": {
            "tags": []
          },
          "execution_count": 13
        }
      ]
    },
    {
      "cell_type": "code",
      "metadata": {
        "id": "iJ9y6zTZw_SK",
        "outputId": "09f6cc98-3570-4fa7-cad8-8a03cded0ce6"
      },
      "source": [
        "grid.best_estimator_"
      ],
      "execution_count": null,
      "outputs": [
        {
          "output_type": "execute_result",
          "data": {
            "text/plain": [
              "KNeighborsClassifier(algorithm='brute', leaf_size=30, metric='chebyshev',\n",
              "                     metric_params=None, n_jobs=None, n_neighbors=6, p=2,\n",
              "                     weights='uniform')"
            ]
          },
          "metadata": {
            "tags": []
          },
          "execution_count": 17
        }
      ]
    },
    {
      "cell_type": "code",
      "metadata": {
        "id": "-tiA4MKaw_SK"
      },
      "source": [
        "finalModel = KNeighborsClassifier(algorithm='brute', leaf_size=30, metric='chebyshev',\n",
        "                     metric_params=None, n_jobs=None, n_neighbors=6, p=2,\n",
        "                     weights='uniform')"
      ],
      "execution_count": null,
      "outputs": []
    },
    {
      "cell_type": "code",
      "metadata": {
        "id": "mCshyPRsw_SK",
        "outputId": "9c4f48b3-a1a4-458c-e39f-33743072c8b8"
      },
      "source": [
        "grid.best_params_"
      ],
      "execution_count": null,
      "outputs": [
        {
          "output_type": "execute_result",
          "data": {
            "text/plain": [
              "{'algorithm': 'brute',\n",
              " 'metric': 'chebyshev',\n",
              " 'n_neighbors': 6,\n",
              " 'weights': 'uniform'}"
            ]
          },
          "metadata": {
            "tags": []
          },
          "execution_count": 15
        }
      ]
    },
    {
      "cell_type": "markdown",
      "metadata": {
        "id": "aAonDExbw_SL"
      },
      "source": [
        "# Method 2: Using RandomizedGridSearchCV"
      ]
    },
    {
      "cell_type": "code",
      "metadata": {
        "id": "M44WCyyNw_SL"
      },
      "source": [
        "#Step1: Design the parameter grid. In Python, you can represent parameter grid in the form of Dictionary\n",
        "\n",
        "weightsParameter = ['uniform','distance']\n",
        "n_neighborsParameter = np.arange(1,31)\n",
        "algorithmParameter = ['auto', 'ball_tree', 'kd_tree', 'brute']\n",
        "metricParameter = ['euclidean', 'manhattan', 'chebyshev' , 'minkowski', 'seuclidean', 'mahalanobis']\n",
        "\n",
        "\n",
        "paramGrid = dict(n_neighbors = n_neighborsParameter,\n",
        "                weights= weightsParameter,\n",
        "                algorithm = algorithmParameter,\n",
        "                metric=metricParameter)\n",
        "\n",
        "# Step2: Initialize the algo\n",
        "\n",
        "from sklearn.neighbors import KNeighborsClassifier\n",
        "modelRGridSearch = KNeighborsClassifier()\n",
        "\n",
        "#Step3: Search the best parameter for your data\n",
        "\n",
        "#RandomizedSearchCV\n",
        "\n",
        "\n",
        "from sklearn.model_selection import RandomizedSearchCV\n",
        "rSearchgrid = RandomizedSearchCV(modelRGridSearch,\n",
        "                   param_distributions=paramGrid,\n",
        "                   cv = 10) #Same as cross_val_score"
      ],
      "execution_count": null,
      "outputs": []
    },
    {
      "cell_type": "code",
      "metadata": {
        "id": "B3Or_yozw_SL",
        "outputId": "c04daa11-2c6a-42b2-99cf-98a158286295"
      },
      "source": [
        "rSearchgrid.fit(features,label)"
      ],
      "execution_count": null,
      "outputs": [
        {
          "output_type": "execute_result",
          "data": {
            "text/plain": [
              "RandomizedSearchCV(cv=10, error_score=nan,\n",
              "                   estimator=KNeighborsClassifier(algorithm='auto',\n",
              "                                                  leaf_size=30,\n",
              "                                                  metric='minkowski',\n",
              "                                                  metric_params=None,\n",
              "                                                  n_jobs=None, n_neighbors=5,\n",
              "                                                  p=2, weights='uniform'),\n",
              "                   iid='deprecated', n_iter=10, n_jobs=None,\n",
              "                   param_distributions={'algorithm': ['auto', 'ball_tree',\n",
              "                                                      'kd_tree', 'brute'],\n",
              "                                        'metric': ['euclidean', 'manhattan',\n",
              "                                                   'chebyshev', 'minkowski',\n",
              "                                                   'seuclidean',\n",
              "                                                   'mahalanobis'],\n",
              "                                        'n_neighbors': array([ 1,  2,  3,  4,  5,  6,  7,  8,  9, 10, 11, 12, 13, 14, 15, 16, 17,\n",
              "       18, 19, 20, 21, 22, 23, 24, 25, 26, 27, 28, 29, 30]),\n",
              "                                        'weights': ['uniform', 'distance']},\n",
              "                   pre_dispatch='2*n_jobs', random_state=None, refit=True,\n",
              "                   return_train_score=False, scoring=None, verbose=0)"
            ]
          },
          "metadata": {
            "tags": []
          },
          "execution_count": 19
        }
      ]
    },
    {
      "cell_type": "code",
      "metadata": {
        "id": "yldR7Dl5w_SL",
        "outputId": "3f175cb6-99bc-4776-ed2e-0d7ffe528e63"
      },
      "source": [
        "rSearchgrid.best_score_"
      ],
      "execution_count": null,
      "outputs": [
        {
          "output_type": "execute_result",
          "data": {
            "text/plain": [
              "0.9733333333333334"
            ]
          },
          "metadata": {
            "tags": []
          },
          "execution_count": 20
        }
      ]
    },
    {
      "cell_type": "code",
      "metadata": {
        "id": "vNJmCUJ6w_SL",
        "outputId": "d04c2b4e-4dfd-48e0-db89-96b797e31542"
      },
      "source": [
        "rSearchgrid.best_estimator_"
      ],
      "execution_count": null,
      "outputs": [
        {
          "output_type": "execute_result",
          "data": {
            "text/plain": [
              "KNeighborsClassifier(algorithm='brute', leaf_size=30, metric='manhattan',\n",
              "                     metric_params=None, n_jobs=None, n_neighbors=18, p=2,\n",
              "                     weights='distance')"
            ]
          },
          "metadata": {
            "tags": []
          },
          "execution_count": 21
        }
      ]
    },
    {
      "cell_type": "code",
      "metadata": {
        "id": "l2naQ_5lw_SM",
        "outputId": "4e2f6732-3855-4c3e-9799-6f10684a5e27"
      },
      "source": [
        "grid.best_estimator_"
      ],
      "execution_count": null,
      "outputs": [
        {
          "output_type": "execute_result",
          "data": {
            "text/plain": [
              "KNeighborsClassifier(algorithm='brute', leaf_size=30, metric='chebyshev',\n",
              "                     metric_params=None, n_jobs=None, n_neighbors=6, p=2,\n",
              "                     weights='uniform')"
            ]
          },
          "metadata": {
            "tags": []
          },
          "execution_count": 22
        }
      ]
    },
    {
      "cell_type": "code",
      "metadata": {
        "id": "ZTe96trkw_SM"
      },
      "source": [
        ""
      ],
      "execution_count": null,
      "outputs": []
    }
  ]
}